{
  "nbformat": 4,
  "nbformat_minor": 0,
  "metadata": {
    "colab": {
      "provenance": []
    },
    "kernelspec": {
      "name": "python3",
      "display_name": "Python 3"
    }
  },
  "cells": [
    {
      "cell_type": "markdown",
      "metadata": {
        "id": "GK3jEZkNrOdB"
      },
      "source": [
        "# VINUSHREE NAGRAJ\n",
        "# ALY6040\n",
        "# MIDTERM\n",
        "# GRADIENT BOOST CLASSIFIER  ON CANCELLED FLIGHTS"
      ]
    },
    {
      "cell_type": "code",
      "metadata": {
        "id": "POLqeOC0Pt6E",
        "colab": {
          "base_uri": "https://localhost:8080/"
        },
        "outputId": "e10599d9-2b58-4b9b-b9c5-910821ab96a3"
      },
      "source": [
        "import numpy as np\n",
        "import random\n",
        "import pandas as pd\n",
        "import os\n",
        "import seaborn as sns\n",
        "import statsmodels.api as sm\n",
        "from sklearn import datasets\n",
        "from sklearn.feature_selection import RFE\n",
        "from sklearn.linear_model import LogisticRegression\n",
        "from sklearn.linear_model import LassoCV, LassoLarsCV, LassoLarsIC\n",
        "from sklearn.model_selection import train_test_split\n",
        "from sklearn.linear_model import LinearRegression\n",
        "from sklearn.metrics import mean_squared_error\n",
        "from sklearn import linear_model\n",
        "from matplotlib import pyplot as plt\n",
        "from matplotlib.ticker import PercentFormatter\n",
        "from pylab import rcParams\n",
        "from sklearn.metrics import confusion_matrix\n",
        "from sklearn.metrics import classification_report\n",
        "from sklearn.preprocessing import LabelEncoder\n",
        "from sklearn.preprocessing import OneHotEncoder\n",
        "from sklearn import metrics\n",
        "\n",
        "rcParams['figure.figsize'] = (23, 8)\n",
        "sns.set_style('whitegrid')\n",
        "plt.style.use('fivethirtyeight')"
      ],
      "execution_count": null,
      "outputs": [
        {
          "output_type": "stream",
          "text": [
            "/usr/local/lib/python3.6/dist-packages/statsmodels/tools/_testing.py:19: FutureWarning: pandas.util.testing is deprecated. Use the functions in the public API at pandas.testing instead.\n",
            "  import pandas.util.testing as tm\n"
          ],
          "name": "stderr"
        }
      ]
    },
    {
      "cell_type": "code",
      "metadata": {
        "id": "L9RMAspwWQTy",
        "colab": {
          "resources": {
            "http://localhost:8080/nbextensions/google.colab/files.js": {
              "data": "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",
              "ok": true,
              "headers": [
                [
                  "content-type",
                  "application/javascript"
                ]
              ],
              "status": 200,
              "status_text": ""
            }
          },
          "base_uri": "https://localhost:8080/",
          "height": 72
        },
        "outputId": "daad74ed-1685-4163-ba4c-efe3bc906cb3"
      },
      "source": [
        "#retrive data\n",
        "from google.colab import files\n",
        "uploaded = files.upload()"
      ],
      "execution_count": null,
      "outputs": [
        {
          "output_type": "display_data",
          "data": {
            "text/html": [
              "\n",
              "     <input type=\"file\" id=\"files-dac286fa-03cf-4cb3-b917-26edaec4b9ae\" name=\"files[]\" multiple disabled\n",
              "        style=\"border:none\" />\n",
              "     <output id=\"result-dac286fa-03cf-4cb3-b917-26edaec4b9ae\">\n",
              "      Upload widget is only available when the cell has been executed in the\n",
              "      current browser session. Please rerun this cell to enable.\n",
              "      </output>\n",
              "      <script src=\"/nbextensions/google.colab/files.js\"></script> "
            ],
            "text/plain": [
              "<IPython.core.display.HTML object>"
            ]
          },
          "metadata": {
            "tags": []
          }
        },
        {
          "output_type": "stream",
          "text": [
            "Saving flights_exam.csv to flights_exam.csv\n"
          ],
          "name": "stdout"
        }
      ]
    },
    {
      "cell_type": "code",
      "metadata": {
        "id": "bdUxPdl2Xfng",
        "colab": {
          "base_uri": "https://localhost:8080/",
          "height": 456
        },
        "outputId": "f7d126f6-d983-43ad-d711-20b8eee922ce"
      },
      "source": [
        "flights = pd.read_csv('flights_exam.csv')\n",
        "flights"
      ],
      "execution_count": null,
      "outputs": [
        {
          "output_type": "execute_result",
          "data": {
            "text/html": [
              "<div>\n",
              "<style scoped>\n",
              "    .dataframe tbody tr th:only-of-type {\n",
              "        vertical-align: middle;\n",
              "    }\n",
              "\n",
              "    .dataframe tbody tr th {\n",
              "        vertical-align: top;\n",
              "    }\n",
              "\n",
              "    .dataframe thead th {\n",
              "        text-align: right;\n",
              "    }\n",
              "</style>\n",
              "<table border=\"1\" class=\"dataframe\">\n",
              "  <thead>\n",
              "    <tr style=\"text-align: right;\">\n",
              "      <th></th>\n",
              "      <th>Unnamed: 0</th>\n",
              "      <th>YEAR</th>\n",
              "      <th>MONTH</th>\n",
              "      <th>DAY</th>\n",
              "      <th>DAY_OF_WEEK</th>\n",
              "      <th>AIRLINE</th>\n",
              "      <th>FLIGHT_NUMBER</th>\n",
              "      <th>TAIL_NUMBER</th>\n",
              "      <th>ORIGIN_AIRPORT</th>\n",
              "      <th>DESTINATION_AIRPORT</th>\n",
              "      <th>SCHEDULED_DEPARTURE</th>\n",
              "      <th>DEPARTURE_TIME</th>\n",
              "      <th>DEPARTURE_DELAY</th>\n",
              "      <th>TAXI_OUT</th>\n",
              "      <th>WHEELS_OFF</th>\n",
              "      <th>SCHEDULED_TIME</th>\n",
              "      <th>ELAPSED_TIME</th>\n",
              "      <th>AIR_TIME</th>\n",
              "      <th>DISTANCE</th>\n",
              "      <th>WHEELS_ON</th>\n",
              "      <th>TAXI_IN</th>\n",
              "      <th>SCHEDULED_ARRIVAL</th>\n",
              "      <th>ARRIVAL_TIME</th>\n",
              "      <th>ARRIVAL_DELAY</th>\n",
              "      <th>DIVERTED</th>\n",
              "      <th>CANCELLED</th>\n",
              "      <th>AIR_SYSTEM_DELAY</th>\n",
              "      <th>SECURITY_DELAY</th>\n",
              "      <th>AIRLINE_DELAY</th>\n",
              "      <th>LATE_AIRCRAFT_DELAY</th>\n",
              "      <th>WEATHER_DELAY</th>\n",
              "    </tr>\n",
              "  </thead>\n",
              "  <tbody>\n",
              "    <tr>\n",
              "      <th>0</th>\n",
              "      <td>676</td>\n",
              "      <td>2015</td>\n",
              "      <td>1</td>\n",
              "      <td>1</td>\n",
              "      <td>4</td>\n",
              "      <td>AA</td>\n",
              "      <td>1562</td>\n",
              "      <td>N475AA</td>\n",
              "      <td>RIC</td>\n",
              "      <td>DFW</td>\n",
              "      <td>640</td>\n",
              "      <td>636.0</td>\n",
              "      <td>-4.0</td>\n",
              "      <td>17.0</td>\n",
              "      <td>653.0</td>\n",
              "      <td>220.0</td>\n",
              "      <td>217.0</td>\n",
              "      <td>188.0</td>\n",
              "      <td>1158</td>\n",
              "      <td>901.0</td>\n",
              "      <td>12.0</td>\n",
              "      <td>920</td>\n",
              "      <td>913.0</td>\n",
              "      <td>-7.0</td>\n",
              "      <td>0</td>\n",
              "      <td>0</td>\n",
              "      <td>NaN</td>\n",
              "      <td>NaN</td>\n",
              "      <td>NaN</td>\n",
              "      <td>NaN</td>\n",
              "      <td>NaN</td>\n",
              "    </tr>\n",
              "    <tr>\n",
              "      <th>1</th>\n",
              "      <td>3720</td>\n",
              "      <td>2015</td>\n",
              "      <td>1</td>\n",
              "      <td>1</td>\n",
              "      <td>4</td>\n",
              "      <td>AA</td>\n",
              "      <td>1528</td>\n",
              "      <td>N475AA</td>\n",
              "      <td>DFW</td>\n",
              "      <td>LAS</td>\n",
              "      <td>1025</td>\n",
              "      <td>1047.0</td>\n",
              "      <td>22.0</td>\n",
              "      <td>13.0</td>\n",
              "      <td>1100.0</td>\n",
              "      <td>180.0</td>\n",
              "      <td>171.0</td>\n",
              "      <td>151.0</td>\n",
              "      <td>1055</td>\n",
              "      <td>1131.0</td>\n",
              "      <td>7.0</td>\n",
              "      <td>1125</td>\n",
              "      <td>1138.0</td>\n",
              "      <td>13.0</td>\n",
              "      <td>0</td>\n",
              "      <td>0</td>\n",
              "      <td>NaN</td>\n",
              "      <td>NaN</td>\n",
              "      <td>NaN</td>\n",
              "      <td>NaN</td>\n",
              "      <td>NaN</td>\n",
              "    </tr>\n",
              "    <tr>\n",
              "      <th>2</th>\n",
              "      <td>3795</td>\n",
              "      <td>2015</td>\n",
              "      <td>1</td>\n",
              "      <td>1</td>\n",
              "      <td>4</td>\n",
              "      <td>AA</td>\n",
              "      <td>1002</td>\n",
              "      <td>N475AA</td>\n",
              "      <td>DFW</td>\n",
              "      <td>IAH</td>\n",
              "      <td>1030</td>\n",
              "      <td>NaN</td>\n",
              "      <td>NaN</td>\n",
              "      <td>NaN</td>\n",
              "      <td>NaN</td>\n",
              "      <td>65.0</td>\n",
              "      <td>NaN</td>\n",
              "      <td>NaN</td>\n",
              "      <td>224</td>\n",
              "      <td>NaN</td>\n",
              "      <td>NaN</td>\n",
              "      <td>1135</td>\n",
              "      <td>NaN</td>\n",
              "      <td>NaN</td>\n",
              "      <td>0</td>\n",
              "      <td>1</td>\n",
              "      <td>NaN</td>\n",
              "      <td>NaN</td>\n",
              "      <td>NaN</td>\n",
              "      <td>NaN</td>\n",
              "      <td>NaN</td>\n",
              "    </tr>\n",
              "    <tr>\n",
              "      <th>3</th>\n",
              "      <td>5375</td>\n",
              "      <td>2015</td>\n",
              "      <td>1</td>\n",
              "      <td>1</td>\n",
              "      <td>4</td>\n",
              "      <td>AA</td>\n",
              "      <td>1528</td>\n",
              "      <td>N475AA</td>\n",
              "      <td>LAS</td>\n",
              "      <td>DFW</td>\n",
              "      <td>1210</td>\n",
              "      <td>1222.0</td>\n",
              "      <td>12.0</td>\n",
              "      <td>23.0</td>\n",
              "      <td>1245.0</td>\n",
              "      <td>160.0</td>\n",
              "      <td>165.0</td>\n",
              "      <td>132.0</td>\n",
              "      <td>1055</td>\n",
              "      <td>1657.0</td>\n",
              "      <td>10.0</td>\n",
              "      <td>1650</td>\n",
              "      <td>1707.0</td>\n",
              "      <td>17.0</td>\n",
              "      <td>0</td>\n",
              "      <td>0</td>\n",
              "      <td>5.0</td>\n",
              "      <td>0.0</td>\n",
              "      <td>4.0</td>\n",
              "      <td>8.0</td>\n",
              "      <td>0.0</td>\n",
              "    </tr>\n",
              "    <tr>\n",
              "      <th>4</th>\n",
              "      <td>10516</td>\n",
              "      <td>2015</td>\n",
              "      <td>1</td>\n",
              "      <td>1</td>\n",
              "      <td>4</td>\n",
              "      <td>AA</td>\n",
              "      <td>1308</td>\n",
              "      <td>N475AA</td>\n",
              "      <td>DFW</td>\n",
              "      <td>MCO</td>\n",
              "      <td>1740</td>\n",
              "      <td>1817.0</td>\n",
              "      <td>37.0</td>\n",
              "      <td>26.0</td>\n",
              "      <td>1843.0</td>\n",
              "      <td>145.0</td>\n",
              "      <td>155.0</td>\n",
              "      <td>123.0</td>\n",
              "      <td>985</td>\n",
              "      <td>2146.0</td>\n",
              "      <td>6.0</td>\n",
              "      <td>2105</td>\n",
              "      <td>2152.0</td>\n",
              "      <td>47.0</td>\n",
              "      <td>0</td>\n",
              "      <td>0</td>\n",
              "      <td>10.0</td>\n",
              "      <td>0.0</td>\n",
              "      <td>25.0</td>\n",
              "      <td>12.0</td>\n",
              "      <td>0.0</td>\n",
              "    </tr>\n",
              "    <tr>\n",
              "      <th>...</th>\n",
              "      <td>...</td>\n",
              "      <td>...</td>\n",
              "      <td>...</td>\n",
              "      <td>...</td>\n",
              "      <td>...</td>\n",
              "      <td>...</td>\n",
              "      <td>...</td>\n",
              "      <td>...</td>\n",
              "      <td>...</td>\n",
              "      <td>...</td>\n",
              "      <td>...</td>\n",
              "      <td>...</td>\n",
              "      <td>...</td>\n",
              "      <td>...</td>\n",
              "      <td>...</td>\n",
              "      <td>...</td>\n",
              "      <td>...</td>\n",
              "      <td>...</td>\n",
              "      <td>...</td>\n",
              "      <td>...</td>\n",
              "      <td>...</td>\n",
              "      <td>...</td>\n",
              "      <td>...</td>\n",
              "      <td>...</td>\n",
              "      <td>...</td>\n",
              "      <td>...</td>\n",
              "      <td>...</td>\n",
              "      <td>...</td>\n",
              "      <td>...</td>\n",
              "      <td>...</td>\n",
              "      <td>...</td>\n",
              "    </tr>\n",
              "    <tr>\n",
              "      <th>1555</th>\n",
              "      <td>5800014</td>\n",
              "      <td>2015</td>\n",
              "      <td>12</td>\n",
              "      <td>30</td>\n",
              "      <td>3</td>\n",
              "      <td>AA</td>\n",
              "      <td>1052</td>\n",
              "      <td>N475AA</td>\n",
              "      <td>RDU</td>\n",
              "      <td>DFW</td>\n",
              "      <td>1545</td>\n",
              "      <td>1617.0</td>\n",
              "      <td>32.0</td>\n",
              "      <td>11.0</td>\n",
              "      <td>1628.0</td>\n",
              "      <td>198.0</td>\n",
              "      <td>179.0</td>\n",
              "      <td>156.0</td>\n",
              "      <td>1061</td>\n",
              "      <td>1804.0</td>\n",
              "      <td>12.0</td>\n",
              "      <td>1803</td>\n",
              "      <td>1816.0</td>\n",
              "      <td>13.0</td>\n",
              "      <td>0</td>\n",
              "      <td>0</td>\n",
              "      <td>NaN</td>\n",
              "      <td>NaN</td>\n",
              "      <td>NaN</td>\n",
              "      <td>NaN</td>\n",
              "      <td>NaN</td>\n",
              "    </tr>\n",
              "    <tr>\n",
              "      <th>1556</th>\n",
              "      <td>5803305</td>\n",
              "      <td>2015</td>\n",
              "      <td>12</td>\n",
              "      <td>30</td>\n",
              "      <td>3</td>\n",
              "      <td>AA</td>\n",
              "      <td>2568</td>\n",
              "      <td>N475AA</td>\n",
              "      <td>DFW</td>\n",
              "      <td>ABQ</td>\n",
              "      <td>1910</td>\n",
              "      <td>1927.0</td>\n",
              "      <td>17.0</td>\n",
              "      <td>10.0</td>\n",
              "      <td>1937.0</td>\n",
              "      <td>112.0</td>\n",
              "      <td>102.0</td>\n",
              "      <td>88.0</td>\n",
              "      <td>569</td>\n",
              "      <td>2005.0</td>\n",
              "      <td>4.0</td>\n",
              "      <td>2002</td>\n",
              "      <td>2009.0</td>\n",
              "      <td>7.0</td>\n",
              "      <td>0</td>\n",
              "      <td>0</td>\n",
              "      <td>NaN</td>\n",
              "      <td>NaN</td>\n",
              "      <td>NaN</td>\n",
              "      <td>NaN</td>\n",
              "      <td>NaN</td>\n",
              "    </tr>\n",
              "    <tr>\n",
              "      <th>1557</th>\n",
              "      <td>5808367</td>\n",
              "      <td>2015</td>\n",
              "      <td>12</td>\n",
              "      <td>31</td>\n",
              "      <td>4</td>\n",
              "      <td>AA</td>\n",
              "      <td>1282</td>\n",
              "      <td>N475AA</td>\n",
              "      <td>ABQ</td>\n",
              "      <td>DFW</td>\n",
              "      <td>800</td>\n",
              "      <td>800.0</td>\n",
              "      <td>0.0</td>\n",
              "      <td>21.0</td>\n",
              "      <td>821.0</td>\n",
              "      <td>104.0</td>\n",
              "      <td>101.0</td>\n",
              "      <td>71.0</td>\n",
              "      <td>569</td>\n",
              "      <td>1032.0</td>\n",
              "      <td>9.0</td>\n",
              "      <td>1044</td>\n",
              "      <td>1041.0</td>\n",
              "      <td>-3.0</td>\n",
              "      <td>0</td>\n",
              "      <td>0</td>\n",
              "      <td>NaN</td>\n",
              "      <td>NaN</td>\n",
              "      <td>NaN</td>\n",
              "      <td>NaN</td>\n",
              "      <td>NaN</td>\n",
              "    </tr>\n",
              "    <tr>\n",
              "      <th>1558</th>\n",
              "      <td>5811919</td>\n",
              "      <td>2015</td>\n",
              "      <td>12</td>\n",
              "      <td>31</td>\n",
              "      <td>4</td>\n",
              "      <td>AA</td>\n",
              "      <td>1373</td>\n",
              "      <td>N475AA</td>\n",
              "      <td>DFW</td>\n",
              "      <td>JAX</td>\n",
              "      <td>1155</td>\n",
              "      <td>1208.0</td>\n",
              "      <td>13.0</td>\n",
              "      <td>11.0</td>\n",
              "      <td>1219.0</td>\n",
              "      <td>139.0</td>\n",
              "      <td>122.0</td>\n",
              "      <td>107.0</td>\n",
              "      <td>918</td>\n",
              "      <td>1506.0</td>\n",
              "      <td>4.0</td>\n",
              "      <td>1514</td>\n",
              "      <td>1510.0</td>\n",
              "      <td>-4.0</td>\n",
              "      <td>0</td>\n",
              "      <td>0</td>\n",
              "      <td>NaN</td>\n",
              "      <td>NaN</td>\n",
              "      <td>NaN</td>\n",
              "      <td>NaN</td>\n",
              "      <td>NaN</td>\n",
              "    </tr>\n",
              "    <tr>\n",
              "      <th>1559</th>\n",
              "      <td>5815540</td>\n",
              "      <td>2015</td>\n",
              "      <td>12</td>\n",
              "      <td>31</td>\n",
              "      <td>4</td>\n",
              "      <td>AA</td>\n",
              "      <td>1373</td>\n",
              "      <td>N475AA</td>\n",
              "      <td>JAX</td>\n",
              "      <td>DFW</td>\n",
              "      <td>1602</td>\n",
              "      <td>1559.0</td>\n",
              "      <td>-3.0</td>\n",
              "      <td>14.0</td>\n",
              "      <td>1613.0</td>\n",
              "      <td>173.0</td>\n",
              "      <td>159.0</td>\n",
              "      <td>134.0</td>\n",
              "      <td>918</td>\n",
              "      <td>1727.0</td>\n",
              "      <td>11.0</td>\n",
              "      <td>1755</td>\n",
              "      <td>1738.0</td>\n",
              "      <td>-17.0</td>\n",
              "      <td>0</td>\n",
              "      <td>0</td>\n",
              "      <td>NaN</td>\n",
              "      <td>NaN</td>\n",
              "      <td>NaN</td>\n",
              "      <td>NaN</td>\n",
              "      <td>NaN</td>\n",
              "    </tr>\n",
              "  </tbody>\n",
              "</table>\n",
              "<p>1560 rows × 31 columns</p>\n",
              "</div>"
            ],
            "text/plain": [
              "      Unnamed: 0  YEAR  ...  LATE_AIRCRAFT_DELAY  WEATHER_DELAY\n",
              "0            676  2015  ...                  NaN            NaN\n",
              "1           3720  2015  ...                  NaN            NaN\n",
              "2           3795  2015  ...                  NaN            NaN\n",
              "3           5375  2015  ...                  8.0            0.0\n",
              "4          10516  2015  ...                 12.0            0.0\n",
              "...          ...   ...  ...                  ...            ...\n",
              "1555     5800014  2015  ...                  NaN            NaN\n",
              "1556     5803305  2015  ...                  NaN            NaN\n",
              "1557     5808367  2015  ...                  NaN            NaN\n",
              "1558     5811919  2015  ...                  NaN            NaN\n",
              "1559     5815540  2015  ...                  NaN            NaN\n",
              "\n",
              "[1560 rows x 31 columns]"
            ]
          },
          "metadata": {
            "tags": []
          },
          "execution_count": 3
        }
      ]
    },
    {
      "cell_type": "code",
      "metadata": {
        "id": "T5X2VDm5XoSC",
        "colab": {
          "base_uri": "https://localhost:8080/"
        },
        "outputId": "c0cb4162-4f66-4721-a745-33c9c5e36d97"
      },
      "source": [
        "flights.info()"
      ],
      "execution_count": null,
      "outputs": [
        {
          "output_type": "stream",
          "text": [
            "<class 'pandas.core.frame.DataFrame'>\n",
            "RangeIndex: 1560 entries, 0 to 1559\n",
            "Data columns (total 31 columns):\n",
            " #   Column               Non-Null Count  Dtype  \n",
            "---  ------               --------------  -----  \n",
            " 0   Unnamed: 0           1560 non-null   int64  \n",
            " 1   YEAR                 1560 non-null   int64  \n",
            " 2   MONTH                1560 non-null   int64  \n",
            " 3   DAY                  1560 non-null   int64  \n",
            " 4   DAY_OF_WEEK          1560 non-null   int64  \n",
            " 5   AIRLINE              1560 non-null   object \n",
            " 6   FLIGHT_NUMBER        1560 non-null   int64  \n",
            " 7   TAIL_NUMBER          1560 non-null   object \n",
            " 8   ORIGIN_AIRPORT       1560 non-null   object \n",
            " 9   DESTINATION_AIRPORT  1560 non-null   object \n",
            " 10  SCHEDULED_DEPARTURE  1560 non-null   int64  \n",
            " 11  DEPARTURE_TIME       1520 non-null   float64\n",
            " 12  DEPARTURE_DELAY      1520 non-null   float64\n",
            " 13  TAXI_OUT             1520 non-null   float64\n",
            " 14  WHEELS_OFF           1520 non-null   float64\n",
            " 15  SCHEDULED_TIME       1560 non-null   float64\n",
            " 16  ELAPSED_TIME         1515 non-null   float64\n",
            " 17  AIR_TIME             1515 non-null   float64\n",
            " 18  DISTANCE             1560 non-null   int64  \n",
            " 19  WHEELS_ON            1520 non-null   float64\n",
            " 20  TAXI_IN              1520 non-null   float64\n",
            " 21  SCHEDULED_ARRIVAL    1560 non-null   int64  \n",
            " 22  ARRIVAL_TIME         1520 non-null   float64\n",
            " 23  ARRIVAL_DELAY        1515 non-null   float64\n",
            " 24  DIVERTED             1560 non-null   int64  \n",
            " 25  CANCELLED            1560 non-null   int64  \n",
            " 26  AIR_SYSTEM_DELAY     311 non-null    float64\n",
            " 27  SECURITY_DELAY       311 non-null    float64\n",
            " 28  AIRLINE_DELAY        311 non-null    float64\n",
            " 29  LATE_AIRCRAFT_DELAY  311 non-null    float64\n",
            " 30  WEATHER_DELAY        311 non-null    float64\n",
            "dtypes: float64(16), int64(11), object(4)\n",
            "memory usage: 377.9+ KB\n"
          ],
          "name": "stdout"
        }
      ]
    },
    {
      "cell_type": "code",
      "metadata": {
        "id": "pZo1_-O8YRzs",
        "colab": {
          "base_uri": "https://localhost:8080/",
          "height": 241
        },
        "outputId": "c195ca99-dfe0-4de2-b482-ee6025bbf938"
      },
      "source": [
        "flights.head()"
      ],
      "execution_count": null,
      "outputs": [
        {
          "output_type": "execute_result",
          "data": {
            "text/html": [
              "<div>\n",
              "<style scoped>\n",
              "    .dataframe tbody tr th:only-of-type {\n",
              "        vertical-align: middle;\n",
              "    }\n",
              "\n",
              "    .dataframe tbody tr th {\n",
              "        vertical-align: top;\n",
              "    }\n",
              "\n",
              "    .dataframe thead th {\n",
              "        text-align: right;\n",
              "    }\n",
              "</style>\n",
              "<table border=\"1\" class=\"dataframe\">\n",
              "  <thead>\n",
              "    <tr style=\"text-align: right;\">\n",
              "      <th></th>\n",
              "      <th>Unnamed: 0</th>\n",
              "      <th>YEAR</th>\n",
              "      <th>MONTH</th>\n",
              "      <th>DAY</th>\n",
              "      <th>DAY_OF_WEEK</th>\n",
              "      <th>AIRLINE</th>\n",
              "      <th>FLIGHT_NUMBER</th>\n",
              "      <th>TAIL_NUMBER</th>\n",
              "      <th>ORIGIN_AIRPORT</th>\n",
              "      <th>DESTINATION_AIRPORT</th>\n",
              "      <th>SCHEDULED_DEPARTURE</th>\n",
              "      <th>DEPARTURE_TIME</th>\n",
              "      <th>DEPARTURE_DELAY</th>\n",
              "      <th>TAXI_OUT</th>\n",
              "      <th>WHEELS_OFF</th>\n",
              "      <th>SCHEDULED_TIME</th>\n",
              "      <th>ELAPSED_TIME</th>\n",
              "      <th>AIR_TIME</th>\n",
              "      <th>DISTANCE</th>\n",
              "      <th>WHEELS_ON</th>\n",
              "      <th>TAXI_IN</th>\n",
              "      <th>SCHEDULED_ARRIVAL</th>\n",
              "      <th>ARRIVAL_TIME</th>\n",
              "      <th>ARRIVAL_DELAY</th>\n",
              "      <th>DIVERTED</th>\n",
              "      <th>CANCELLED</th>\n",
              "      <th>AIR_SYSTEM_DELAY</th>\n",
              "      <th>SECURITY_DELAY</th>\n",
              "      <th>AIRLINE_DELAY</th>\n",
              "      <th>LATE_AIRCRAFT_DELAY</th>\n",
              "      <th>WEATHER_DELAY</th>\n",
              "    </tr>\n",
              "  </thead>\n",
              "  <tbody>\n",
              "    <tr>\n",
              "      <th>0</th>\n",
              "      <td>676</td>\n",
              "      <td>2015</td>\n",
              "      <td>1</td>\n",
              "      <td>1</td>\n",
              "      <td>4</td>\n",
              "      <td>AA</td>\n",
              "      <td>1562</td>\n",
              "      <td>N475AA</td>\n",
              "      <td>RIC</td>\n",
              "      <td>DFW</td>\n",
              "      <td>640</td>\n",
              "      <td>636.0</td>\n",
              "      <td>-4.0</td>\n",
              "      <td>17.0</td>\n",
              "      <td>653.0</td>\n",
              "      <td>220.0</td>\n",
              "      <td>217.0</td>\n",
              "      <td>188.0</td>\n",
              "      <td>1158</td>\n",
              "      <td>901.0</td>\n",
              "      <td>12.0</td>\n",
              "      <td>920</td>\n",
              "      <td>913.0</td>\n",
              "      <td>-7.0</td>\n",
              "      <td>0</td>\n",
              "      <td>0</td>\n",
              "      <td>NaN</td>\n",
              "      <td>NaN</td>\n",
              "      <td>NaN</td>\n",
              "      <td>NaN</td>\n",
              "      <td>NaN</td>\n",
              "    </tr>\n",
              "    <tr>\n",
              "      <th>1</th>\n",
              "      <td>3720</td>\n",
              "      <td>2015</td>\n",
              "      <td>1</td>\n",
              "      <td>1</td>\n",
              "      <td>4</td>\n",
              "      <td>AA</td>\n",
              "      <td>1528</td>\n",
              "      <td>N475AA</td>\n",
              "      <td>DFW</td>\n",
              "      <td>LAS</td>\n",
              "      <td>1025</td>\n",
              "      <td>1047.0</td>\n",
              "      <td>22.0</td>\n",
              "      <td>13.0</td>\n",
              "      <td>1100.0</td>\n",
              "      <td>180.0</td>\n",
              "      <td>171.0</td>\n",
              "      <td>151.0</td>\n",
              "      <td>1055</td>\n",
              "      <td>1131.0</td>\n",
              "      <td>7.0</td>\n",
              "      <td>1125</td>\n",
              "      <td>1138.0</td>\n",
              "      <td>13.0</td>\n",
              "      <td>0</td>\n",
              "      <td>0</td>\n",
              "      <td>NaN</td>\n",
              "      <td>NaN</td>\n",
              "      <td>NaN</td>\n",
              "      <td>NaN</td>\n",
              "      <td>NaN</td>\n",
              "    </tr>\n",
              "    <tr>\n",
              "      <th>2</th>\n",
              "      <td>3795</td>\n",
              "      <td>2015</td>\n",
              "      <td>1</td>\n",
              "      <td>1</td>\n",
              "      <td>4</td>\n",
              "      <td>AA</td>\n",
              "      <td>1002</td>\n",
              "      <td>N475AA</td>\n",
              "      <td>DFW</td>\n",
              "      <td>IAH</td>\n",
              "      <td>1030</td>\n",
              "      <td>NaN</td>\n",
              "      <td>NaN</td>\n",
              "      <td>NaN</td>\n",
              "      <td>NaN</td>\n",
              "      <td>65.0</td>\n",
              "      <td>NaN</td>\n",
              "      <td>NaN</td>\n",
              "      <td>224</td>\n",
              "      <td>NaN</td>\n",
              "      <td>NaN</td>\n",
              "      <td>1135</td>\n",
              "      <td>NaN</td>\n",
              "      <td>NaN</td>\n",
              "      <td>0</td>\n",
              "      <td>1</td>\n",
              "      <td>NaN</td>\n",
              "      <td>NaN</td>\n",
              "      <td>NaN</td>\n",
              "      <td>NaN</td>\n",
              "      <td>NaN</td>\n",
              "    </tr>\n",
              "    <tr>\n",
              "      <th>3</th>\n",
              "      <td>5375</td>\n",
              "      <td>2015</td>\n",
              "      <td>1</td>\n",
              "      <td>1</td>\n",
              "      <td>4</td>\n",
              "      <td>AA</td>\n",
              "      <td>1528</td>\n",
              "      <td>N475AA</td>\n",
              "      <td>LAS</td>\n",
              "      <td>DFW</td>\n",
              "      <td>1210</td>\n",
              "      <td>1222.0</td>\n",
              "      <td>12.0</td>\n",
              "      <td>23.0</td>\n",
              "      <td>1245.0</td>\n",
              "      <td>160.0</td>\n",
              "      <td>165.0</td>\n",
              "      <td>132.0</td>\n",
              "      <td>1055</td>\n",
              "      <td>1657.0</td>\n",
              "      <td>10.0</td>\n",
              "      <td>1650</td>\n",
              "      <td>1707.0</td>\n",
              "      <td>17.0</td>\n",
              "      <td>0</td>\n",
              "      <td>0</td>\n",
              "      <td>5.0</td>\n",
              "      <td>0.0</td>\n",
              "      <td>4.0</td>\n",
              "      <td>8.0</td>\n",
              "      <td>0.0</td>\n",
              "    </tr>\n",
              "    <tr>\n",
              "      <th>4</th>\n",
              "      <td>10516</td>\n",
              "      <td>2015</td>\n",
              "      <td>1</td>\n",
              "      <td>1</td>\n",
              "      <td>4</td>\n",
              "      <td>AA</td>\n",
              "      <td>1308</td>\n",
              "      <td>N475AA</td>\n",
              "      <td>DFW</td>\n",
              "      <td>MCO</td>\n",
              "      <td>1740</td>\n",
              "      <td>1817.0</td>\n",
              "      <td>37.0</td>\n",
              "      <td>26.0</td>\n",
              "      <td>1843.0</td>\n",
              "      <td>145.0</td>\n",
              "      <td>155.0</td>\n",
              "      <td>123.0</td>\n",
              "      <td>985</td>\n",
              "      <td>2146.0</td>\n",
              "      <td>6.0</td>\n",
              "      <td>2105</td>\n",
              "      <td>2152.0</td>\n",
              "      <td>47.0</td>\n",
              "      <td>0</td>\n",
              "      <td>0</td>\n",
              "      <td>10.0</td>\n",
              "      <td>0.0</td>\n",
              "      <td>25.0</td>\n",
              "      <td>12.0</td>\n",
              "      <td>0.0</td>\n",
              "    </tr>\n",
              "  </tbody>\n",
              "</table>\n",
              "</div>"
            ],
            "text/plain": [
              "   Unnamed: 0  YEAR  MONTH  ...  AIRLINE_DELAY  LATE_AIRCRAFT_DELAY WEATHER_DELAY\n",
              "0         676  2015      1  ...            NaN                  NaN           NaN\n",
              "1        3720  2015      1  ...            NaN                  NaN           NaN\n",
              "2        3795  2015      1  ...            NaN                  NaN           NaN\n",
              "3        5375  2015      1  ...            4.0                  8.0           0.0\n",
              "4       10516  2015      1  ...           25.0                 12.0           0.0\n",
              "\n",
              "[5 rows x 31 columns]"
            ]
          },
          "metadata": {
            "tags": []
          },
          "execution_count": 5
        }
      ]
    },
    {
      "cell_type": "code",
      "metadata": {
        "id": "cv-aIaHXUsd-"
      },
      "source": [
        "variables_to_remove = ['Unnamed: 0','TAXI_OUT', 'TAXI_IN', 'WHEELS_ON', 'WHEELS_OFF', 'YEAR',\n",
        "                       'DAY','AIR_SYSTEM_DELAY',\n",
        "                       'SECURITY_DELAY', 'AIRLINE_DELAY', 'LATE_AIRCRAFT_DELAY',\n",
        "                       'WEATHER_DELAY','AIRLINE','ORIGIN_AIRPORT',\n",
        "                        'TAIL_NUMBER', 'AIR_TIME','DEPARTURE_TIME','ELAPSED_TIME','DEPARTURE_DELAY','SCHEDULED_ARRIVAL','ARRIVAL_TIME',\t'ARRIVAL_DELAY','DIVERTED']\n",
        "flights.drop(variables_to_remove, axis = 1, inplace = True)\n"
      ],
      "execution_count": null,
      "outputs": []
    },
    {
      "cell_type": "code",
      "metadata": {
        "colab": {
          "base_uri": "https://localhost:8080/",
          "height": 297
        },
        "id": "4evOpjx0a0BS",
        "outputId": "b7172618-7b2c-4ff8-c011-3e888a29923a"
      },
      "source": [
        "missing_df = flights.isnull().sum(axis=0).reset_index()\n",
        "missing_df.columns = ['variable', 'missing values']\n",
        "missing_df['filling factor (%)']=(flights.shape[0]-missing_df['missing values'])/flights.shape[0]*100\n",
        "missing_df.sort_values('filling factor (%)').reset_index(drop = True)"
      ],
      "execution_count": null,
      "outputs": [
        {
          "output_type": "execute_result",
          "data": {
            "text/html": [
              "<div>\n",
              "<style scoped>\n",
              "    .dataframe tbody tr th:only-of-type {\n",
              "        vertical-align: middle;\n",
              "    }\n",
              "\n",
              "    .dataframe tbody tr th {\n",
              "        vertical-align: top;\n",
              "    }\n",
              "\n",
              "    .dataframe thead th {\n",
              "        text-align: right;\n",
              "    }\n",
              "</style>\n",
              "<table border=\"1\" class=\"dataframe\">\n",
              "  <thead>\n",
              "    <tr style=\"text-align: right;\">\n",
              "      <th></th>\n",
              "      <th>variable</th>\n",
              "      <th>missing values</th>\n",
              "      <th>filling factor (%)</th>\n",
              "    </tr>\n",
              "  </thead>\n",
              "  <tbody>\n",
              "    <tr>\n",
              "      <th>0</th>\n",
              "      <td>MONTH</td>\n",
              "      <td>0</td>\n",
              "      <td>100.0</td>\n",
              "    </tr>\n",
              "    <tr>\n",
              "      <th>1</th>\n",
              "      <td>DAY_OF_WEEK</td>\n",
              "      <td>0</td>\n",
              "      <td>100.0</td>\n",
              "    </tr>\n",
              "    <tr>\n",
              "      <th>2</th>\n",
              "      <td>FLIGHT_NUMBER</td>\n",
              "      <td>0</td>\n",
              "      <td>100.0</td>\n",
              "    </tr>\n",
              "    <tr>\n",
              "      <th>3</th>\n",
              "      <td>DESTINATION_AIRPORT</td>\n",
              "      <td>0</td>\n",
              "      <td>100.0</td>\n",
              "    </tr>\n",
              "    <tr>\n",
              "      <th>4</th>\n",
              "      <td>SCHEDULED_DEPARTURE</td>\n",
              "      <td>0</td>\n",
              "      <td>100.0</td>\n",
              "    </tr>\n",
              "    <tr>\n",
              "      <th>5</th>\n",
              "      <td>SCHEDULED_TIME</td>\n",
              "      <td>0</td>\n",
              "      <td>100.0</td>\n",
              "    </tr>\n",
              "    <tr>\n",
              "      <th>6</th>\n",
              "      <td>DISTANCE</td>\n",
              "      <td>0</td>\n",
              "      <td>100.0</td>\n",
              "    </tr>\n",
              "    <tr>\n",
              "      <th>7</th>\n",
              "      <td>CANCELLED</td>\n",
              "      <td>0</td>\n",
              "      <td>100.0</td>\n",
              "    </tr>\n",
              "  </tbody>\n",
              "</table>\n",
              "</div>"
            ],
            "text/plain": [
              "              variable  missing values  filling factor (%)\n",
              "0                MONTH               0               100.0\n",
              "1          DAY_OF_WEEK               0               100.0\n",
              "2        FLIGHT_NUMBER               0               100.0\n",
              "3  DESTINATION_AIRPORT               0               100.0\n",
              "4  SCHEDULED_DEPARTURE               0               100.0\n",
              "5       SCHEDULED_TIME               0               100.0\n",
              "6             DISTANCE               0               100.0\n",
              "7            CANCELLED               0               100.0"
            ]
          },
          "metadata": {
            "tags": []
          },
          "execution_count": 7
        }
      ]
    },
    {
      "cell_type": "code",
      "metadata": {
        "colab": {
          "base_uri": "https://localhost:8080/",
          "height": 810
        },
        "id": "0zD01c6XxPwi",
        "outputId": "a36e1cee-256e-4d8c-f190-af97fc62851d"
      },
      "source": [
        "axis = plt.subplots(figsize=(20,14))\n",
        "sns.heatmap(flights.corr(),annot = True)\n",
        "plt.show()"
      ],
      "execution_count": null,
      "outputs": [
        {
          "output_type": "display_data",
          "data": {
            "image/png": "[encoded data removed]",
            "text/plain": [
              "<Figure size 1440x1008 with 2 Axes>"
            ]
          },
          "metadata": {
            "tags": [],
            "needs_background": "light"
          }
        }
      ]
    },
    {
      "cell_type": "code",
      "metadata": {
        "colab": {
          "base_uri": "https://localhost:8080/"
        },
        "id": "a-omSsMn-Yfw",
        "outputId": "ca572fca-eff9-445c-ace3-cc7fdb7898dc"
      },
      "source": [
        "flights.info()"
      ],
      "execution_count": null,
      "outputs": [
        {
          "output_type": "stream",
          "text": [
            "<class 'pandas.core.frame.DataFrame'>\n",
            "RangeIndex: 1560 entries, 0 to 1559\n",
            "Data columns (total 8 columns):\n",
            " #   Column               Non-Null Count  Dtype  \n",
            "---  ------               --------------  -----  \n",
            " 0   MONTH                1560 non-null   int64  \n",
            " 1   DAY_OF_WEEK          1560 non-null   int64  \n",
            " 2   FLIGHT_NUMBER        1560 non-null   int64  \n",
            " 3   DESTINATION_AIRPORT  1560 non-null   object \n",
            " 4   SCHEDULED_DEPARTURE  1560 non-null   int64  \n",
            " 5   SCHEDULED_TIME       1560 non-null   float64\n",
            " 6   DISTANCE             1560 non-null   int64  \n",
            " 7   CANCELLED            1560 non-null   int64  \n",
            "dtypes: float64(1), int64(6), object(1)\n",
            "memory usage: 97.6+ KB\n"
          ],
          "name": "stdout"
        }
      ]
    },
    {
      "cell_type": "code",
      "metadata": {
        "colab": {
          "base_uri": "https://localhost:8080/"
        },
        "id": "8HaX_9u-Z5-k",
        "outputId": "562fcdd9-5f8f-4f46-9d05-6c9c9b4f5627"
      },
      "source": [
        "#integer mapping using LabelEncoder\n",
        "label_encoder = LabelEncoder()\n",
        "integer_encoded = label_encoder.fit_transform(flights['DESTINATION_AIRPORT'])\n",
        "print(integer_encoded)\n",
        "integer_encoded = integer_encoded.reshape(len(integer_encoded), 1)"
      ],
      "execution_count": null,
      "outputs": [
        {
          "output_type": "stream",
          "text": [
            "[41 53 49 ... 41 52 41]\n"
          ],
          "name": "stdout"
        }
      ]
    },
    {
      "cell_type": "code",
      "metadata": {
        "id": "Z1uyT_iyZ8tJ"
      },
      "source": [
        "flights['DESTINATION_AIRPORT'] = integer_encoded"
      ],
      "execution_count": null,
      "outputs": []
    },
    {
      "cell_type": "code",
      "metadata": {
        "colab": {
          "base_uri": "https://localhost:8080/"
        },
        "id": "ASR5UFBmxqCS",
        "outputId": "510bad05-98c8-47df-d005-730c5e979a1a"
      },
      "source": [
        "X = flights.drop('CANCELLED',axis = 1)\n",
        "X.shape"
      ],
      "execution_count": null,
      "outputs": [
        {
          "output_type": "execute_result",
          "data": {
            "text/plain": [
              "(1560, 7)"
            ]
          },
          "metadata": {
            "tags": []
          },
          "execution_count": 12
        }
      ]
    },
    {
      "cell_type": "code",
      "metadata": {
        "colab": {
          "base_uri": "https://localhost:8080/"
        },
        "id": "jzsGjkFZxykW",
        "outputId": "9139c5a6-8ffd-4366-adc3-7c6eb674e349"
      },
      "source": [
        "y = flights['CANCELLED']\n",
        "y.head()"
      ],
      "execution_count": null,
      "outputs": [
        {
          "output_type": "execute_result",
          "data": {
            "text/plain": [
              "0    0\n",
              "1    0\n",
              "2    1\n",
              "3    0\n",
              "4    0\n",
              "Name: CANCELLED, dtype: int64"
            ]
          },
          "metadata": {
            "tags": []
          },
          "execution_count": 13
        }
      ]
    },
    {
      "cell_type": "code",
      "metadata": {
        "id": "fKnbd6YkPa30"
      },
      "source": [
        "X_train, X_test, y_train, y_test = train_test_split(X,y,train_size=0.75)"
      ],
      "execution_count": null,
      "outputs": []
    },
    {
      "cell_type": "code",
      "metadata": {
        "id": "0noxjxL9aGjM"
      },
      "source": [
        "#Initialize Logistic Regressor\n",
        "model = LogisticRegression()"
      ],
      "execution_count": null,
      "outputs": []
    },
    {
      "cell_type": "code",
      "metadata": {
        "colab": {
          "base_uri": "https://localhost:8080/"
        },
        "id": "cEyYrpFFQblx",
        "outputId": "0b50e0aa-dada-4eb0-8030-b5a0ba318548"
      },
      "source": [
        "#Fit the model\n",
        "model.fit(X_train, y_train.values.ravel());"
      ],
      "execution_count": null,
      "outputs": [
        {
          "output_type": "stream",
          "text": [
            "/usr/local/lib/python3.6/dist-packages/sklearn/linear_model/_logistic.py:940: ConvergenceWarning: lbfgs failed to converge (status=1):\n",
            "STOP: TOTAL NO. of ITERATIONS REACHED LIMIT.\n",
            "\n",
            "Increase the number of iterations (max_iter) or scale the data as shown in:\n",
            "    https://scikit-learn.org/stable/modules/preprocessing.html\n",
            "Please also refer to the documentation for alternative solver options:\n",
            "    https://scikit-learn.org/stable/modules/linear_model.html#logistic-regression\n",
            "  extra_warning_msg=_LOGISTIC_SOLVER_CONVERGENCE_MSG)\n"
          ],
          "name": "stderr"
        }
      ]
    },
    {
      "cell_type": "code",
      "metadata": {
        "colab": {
          "base_uri": "https://localhost:8080/"
        },
        "id": "geDJT0LRQ-3L",
        "outputId": "aad6dc91-dbc8-4481-a44b-1068a2d6ac7f"
      },
      "source": [
        "#Let's score the model\n",
        "model.score(X_test, y_test)"
      ],
      "execution_count": null,
      "outputs": [
        {
          "output_type": "execute_result",
          "data": {
            "text/plain": [
              "0.9871794871794872"
            ]
          },
          "metadata": {
            "tags": []
          },
          "execution_count": 17
        }
      ]
    },
    {
      "cell_type": "code",
      "metadata": {
        "id": "I3b0dCDCRGG9"
      },
      "source": [
        "y_pred = model.predict(X_test)"
      ],
      "execution_count": null,
      "outputs": []
    },
    {
      "cell_type": "code",
      "metadata": {
        "colab": {
          "base_uri": "https://localhost:8080/",
          "height": 419
        },
        "id": "OZwjzTFbRNlE",
        "outputId": "0a5f5987-63d4-4d68-b03d-3806e014f218"
      },
      "source": [
        "#To understand how the model performs, let's take a look at the actuals, predictions, and probabilities together!\n",
        "prediction_df = pd.DataFrame(model.predict(X_test), columns = {'Prediction'}).set_index([pd.Index(X_test.index)])\n",
        "probability_df = pd.DataFrame(model.predict_proba(X_test)).set_index([pd.Index(X_test.index)])\n",
        "all_together_df = X_test.join(y_test).join(prediction_df).join(probability_df)\n",
        "all_together_df\n",
        ""
      ],
      "execution_count": null,
      "outputs": [
        {
          "output_type": "execute_result",
          "data": {
            "text/html": [
              "<div>\n",
              "<style scoped>\n",
              "    .dataframe tbody tr th:only-of-type {\n",
              "        vertical-align: middle;\n",
              "    }\n",
              "\n",
              "    .dataframe tbody tr th {\n",
              "        vertical-align: top;\n",
              "    }\n",
              "\n",
              "    .dataframe thead th {\n",
              "        text-align: right;\n",
              "    }\n",
              "</style>\n",
              "<table border=\"1\" class=\"dataframe\">\n",
              "  <thead>\n",
              "    <tr style=\"text-align: right;\">\n",
              "      <th></th>\n",
              "      <th>MONTH</th>\n",
              "      <th>DAY_OF_WEEK</th>\n",
              "      <th>FLIGHT_NUMBER</th>\n",
              "      <th>DESTINATION_AIRPORT</th>\n",
              "      <th>SCHEDULED_DEPARTURE</th>\n",
              "      <th>SCHEDULED_TIME</th>\n",
              "      <th>DISTANCE</th>\n",
              "      <th>CANCELLED</th>\n",
              "      <th>Prediction</th>\n",
              "      <th>0</th>\n",
              "      <th>1</th>\n",
              "    </tr>\n",
              "  </thead>\n",
              "  <tbody>\n",
              "    <tr>\n",
              "      <th>434</th>\n",
              "      <td>4</td>\n",
              "      <td>3</td>\n",
              "      <td>2306</td>\n",
              "      <td>41</td>\n",
              "      <td>1622</td>\n",
              "      <td>75.0</td>\n",
              "      <td>282</td>\n",
              "      <td>0</td>\n",
              "      <td>0</td>\n",
              "      <td>0.973081</td>\n",
              "      <td>0.026919</td>\n",
              "    </tr>\n",
              "    <tr>\n",
              "      <th>757</th>\n",
              "      <td>6</td>\n",
              "      <td>4</td>\n",
              "      <td>71</td>\n",
              "      <td>53</td>\n",
              "      <td>1550</td>\n",
              "      <td>173.0</td>\n",
              "      <td>1055</td>\n",
              "      <td>0</td>\n",
              "      <td>0</td>\n",
              "      <td>0.954302</td>\n",
              "      <td>0.045698</td>\n",
              "    </tr>\n",
              "    <tr>\n",
              "      <th>860</th>\n",
              "      <td>7</td>\n",
              "      <td>5</td>\n",
              "      <td>1193</td>\n",
              "      <td>41</td>\n",
              "      <td>1114</td>\n",
              "      <td>118.0</td>\n",
              "      <td>631</td>\n",
              "      <td>0</td>\n",
              "      <td>0</td>\n",
              "      <td>0.969716</td>\n",
              "      <td>0.030284</td>\n",
              "    </tr>\n",
              "    <tr>\n",
              "      <th>693</th>\n",
              "      <td>6</td>\n",
              "      <td>4</td>\n",
              "      <td>1346</td>\n",
              "      <td>85</td>\n",
              "      <td>850</td>\n",
              "      <td>138.0</td>\n",
              "      <td>813</td>\n",
              "      <td>0</td>\n",
              "      <td>0</td>\n",
              "      <td>0.983514</td>\n",
              "      <td>0.016486</td>\n",
              "    </tr>\n",
              "    <tr>\n",
              "      <th>1394</th>\n",
              "      <td>11</td>\n",
              "      <td>2</td>\n",
              "      <td>150</td>\n",
              "      <td>44</td>\n",
              "      <td>845</td>\n",
              "      <td>107.0</td>\n",
              "      <td>551</td>\n",
              "      <td>0</td>\n",
              "      <td>0</td>\n",
              "      <td>0.980562</td>\n",
              "      <td>0.019438</td>\n",
              "    </tr>\n",
              "    <tr>\n",
              "      <th>...</th>\n",
              "      <td>...</td>\n",
              "      <td>...</td>\n",
              "      <td>...</td>\n",
              "      <td>...</td>\n",
              "      <td>...</td>\n",
              "      <td>...</td>\n",
              "      <td>...</td>\n",
              "      <td>...</td>\n",
              "      <td>...</td>\n",
              "      <td>...</td>\n",
              "      <td>...</td>\n",
              "    </tr>\n",
              "    <tr>\n",
              "      <th>1464</th>\n",
              "      <td>12</td>\n",
              "      <td>2</td>\n",
              "      <td>1346</td>\n",
              "      <td>85</td>\n",
              "      <td>850</td>\n",
              "      <td>150.0</td>\n",
              "      <td>813</td>\n",
              "      <td>0</td>\n",
              "      <td>0</td>\n",
              "      <td>0.993418</td>\n",
              "      <td>0.006582</td>\n",
              "    </tr>\n",
              "    <tr>\n",
              "      <th>1074</th>\n",
              "      <td>9</td>\n",
              "      <td>6</td>\n",
              "      <td>2358</td>\n",
              "      <td>41</td>\n",
              "      <td>1602</td>\n",
              "      <td>100.0</td>\n",
              "      <td>447</td>\n",
              "      <td>0</td>\n",
              "      <td>0</td>\n",
              "      <td>0.981078</td>\n",
              "      <td>0.018922</td>\n",
              "    </tr>\n",
              "    <tr>\n",
              "      <th>866</th>\n",
              "      <td>7</td>\n",
              "      <td>6</td>\n",
              "      <td>1421</td>\n",
              "      <td>66</td>\n",
              "      <td>1740</td>\n",
              "      <td>175.0</td>\n",
              "      <td>1012</td>\n",
              "      <td>0</td>\n",
              "      <td>0</td>\n",
              "      <td>0.974503</td>\n",
              "      <td>0.025497</td>\n",
              "    </tr>\n",
              "    <tr>\n",
              "      <th>936</th>\n",
              "      <td>8</td>\n",
              "      <td>1</td>\n",
              "      <td>1235</td>\n",
              "      <td>41</td>\n",
              "      <td>1428</td>\n",
              "      <td>120.0</td>\n",
              "      <td>624</td>\n",
              "      <td>0</td>\n",
              "      <td>0</td>\n",
              "      <td>0.978804</td>\n",
              "      <td>0.021196</td>\n",
              "    </tr>\n",
              "    <tr>\n",
              "      <th>1170</th>\n",
              "      <td>9</td>\n",
              "      <td>3</td>\n",
              "      <td>2347</td>\n",
              "      <td>41</td>\n",
              "      <td>1609</td>\n",
              "      <td>166.0</td>\n",
              "      <td>926</td>\n",
              "      <td>0</td>\n",
              "      <td>0</td>\n",
              "      <td>0.983920</td>\n",
              "      <td>0.016080</td>\n",
              "    </tr>\n",
              "  </tbody>\n",
              "</table>\n",
              "<p>390 rows × 11 columns</p>\n",
              "</div>"
            ],
            "text/plain": [
              "      MONTH  DAY_OF_WEEK  FLIGHT_NUMBER  ...  Prediction         0         1\n",
              "434       4            3           2306  ...           0  0.973081  0.026919\n",
              "757       6            4             71  ...           0  0.954302  0.045698\n",
              "860       7            5           1193  ...           0  0.969716  0.030284\n",
              "693       6            4           1346  ...           0  0.983514  0.016486\n",
              "1394     11            2            150  ...           0  0.980562  0.019438\n",
              "...     ...          ...            ...  ...         ...       ...       ...\n",
              "1464     12            2           1346  ...           0  0.993418  0.006582\n",
              "1074      9            6           2358  ...           0  0.981078  0.018922\n",
              "866       7            6           1421  ...           0  0.974503  0.025497\n",
              "936       8            1           1235  ...           0  0.978804  0.021196\n",
              "1170      9            3           2347  ...           0  0.983920  0.016080\n",
              "\n",
              "[390 rows x 11 columns]"
            ]
          },
          "metadata": {
            "tags": []
          },
          "execution_count": 23
        }
      ]
    },
    {
      "cell_type": "code",
      "metadata": {
        "colab": {
          "base_uri": "https://localhost:8080/"
        },
        "id": "u_Efkldm4RdI",
        "outputId": "1b216d31-5d11-41b0-de56-a29286ecbde3"
      },
      "source": [
        "# import the metrics class\n",
        "cnf_matrix = metrics.confusion_matrix(y_test, y_pred)\n",
        "cnf_matrix"
      ],
      "execution_count": null,
      "outputs": [
        {
          "output_type": "execute_result",
          "data": {
            "text/plain": [
              "array([[385,   0],\n",
              "       [  5,   0]])"
            ]
          },
          "metadata": {
            "tags": []
          },
          "execution_count": 24
        }
      ]
    },
    {
      "cell_type": "code",
      "metadata": {
        "colab": {
          "base_uri": "https://localhost:8080/",
          "height": 345
        },
        "id": "QrDJjGKs3jqN",
        "outputId": "ee2987c4-d84e-4a3f-e440-c961e54cb01f"
      },
      "source": [
        "class_names=[0,1] # name  of classes\n",
        "fig, ax = plt.subplots()\n",
        "tick_marks = np.arange(len(class_names))\n",
        "plt.xticks(tick_marks, class_names)\n",
        "plt.yticks(tick_marks, class_names)\n",
        "# create heatmap\n",
        "sns.heatmap(pd.DataFrame(cnf_matrix), annot=True, cmap=\"YlGnBu\" ,fmt='g')\n",
        "ax.xaxis.set_label_position(\"top\")\n",
        "plt.tight_layout()\n",
        "plt.title('Confusion matrix', y=1.1)\n",
        "plt.ylabel('Actual label')\n",
        "plt.xlabel('Predicted label')"
      ],
      "execution_count": null,
      "outputs": [
        {
          "output_type": "execute_result",
          "data": {
            "text/plain": [
              "Text(0.5, 257.44, 'Predicted label')"
            ]
          },
          "metadata": {
            "tags": []
          },
          "execution_count": 25
        },
        {
          "output_type": "display_data",
          "data": {
            "image/png": "[encoded data removed]",
            "text/plain": [
              "<Figure size 432x288 with 2 Axes>"
            ]
          },
          "metadata": {
            "tags": [],
            "needs_background": "light"
          }
        }
      ]
    },
    {
      "cell_type": "code",
      "metadata": {
        "colab": {
          "base_uri": "https://localhost:8080/"
        },
        "id": "ILuiNZryZkWA",
        "outputId": "137c8d3b-061c-4629-e5c8-912a8bad2b85"
      },
      "source": [
        "print(\"Accuracy:\",metrics.accuracy_score(y_test, y_pred))\n",
        "print(\"Precision:\",metrics.precision_score(y_test, y_pred, average='weighted', zero_division= 1))\n",
        "print(\"Recall:\",metrics.recall_score(y_test, y_pred, average='weighted', zero_division= 1))\n"
      ],
      "execution_count": null,
      "outputs": [
        {
          "output_type": "stream",
          "text": [
            "Accuracy: 0.9871794871794872\n",
            "Precision: 0.9873438527284683\n",
            "Recall: 0.9871794871794872\n"
          ],
          "name": "stdout"
        }
      ]
    },
    {
      "cell_type": "code",
      "metadata": {
        "colab": {
          "base_uri": "https://localhost:8080/"
        },
        "id": "ha6m2jQgf_QR",
        "outputId": "5d0b4703-d326-4c42-d1f4-30707485bb8f"
      },
      "source": [
        "from sklearn.metrics import classification_report\n",
        "print(classification_report(y_test,y_pred))"
      ],
      "execution_count": null,
      "outputs": [
        {
          "output_type": "stream",
          "text": [
            "              precision    recall  f1-score   support\n",
            "\n",
            "           0       0.99      1.00      0.99       385\n",
            "           1       0.00      0.00      0.00         5\n",
            "\n",
            "    accuracy                           0.99       390\n",
            "   macro avg       0.49      0.50      0.50       390\n",
            "weighted avg       0.97      0.99      0.98       390\n",
            "\n"
          ],
          "name": "stdout"
        },
        {
          "output_type": "stream",
          "text": [
            "/usr/local/lib/python3.6/dist-packages/sklearn/metrics/_classification.py:1272: UndefinedMetricWarning: Precision and F-score are ill-defined and being set to 0.0 in labels with no predicted samples. Use `zero_division` parameter to control this behavior.\n",
            "  _warn_prf(average, modifier, msg_start, len(result))\n"
          ],
          "name": "stderr"
        }
      ]
    },
    {
      "cell_type": "code",
      "metadata": {
        "colab": {
          "base_uri": "https://localhost:8080/",
          "height": 416
        },
        "id": "TPmxPpECZ7KX",
        "outputId": "90b58aee-76aa-49cd-cafe-2bf1cc82bbca"
      },
      "source": [
        "model = sm.GLM.from_formula(\"CANCELLED ~ MONTH+DAY_OF_WEEK+FLIGHT_NUMBER+DESTINATION_AIRPORT+SCHEDULED_DEPARTURE+SCHEDULED_TIME+DISTANCE\", family=sm.families.Binomial(), data=flights)\n",
        "result=model.fit()\n",
        "result.summary()"
      ],
      "execution_count": null,
      "outputs": [
        {
          "output_type": "execute_result",
          "data": {
            "text/html": [
              "<table class=\"simpletable\">\n",
              "<caption>Generalized Linear Model Regression Results</caption>\n",
              "<tr>\n",
              "  <th>Dep. Variable:</th>       <td>CANCELLED</td>    <th>  No. Observations:  </th>  <td>  1560</td> \n",
              "</tr>\n",
              "<tr>\n",
              "  <th>Model:</th>                  <td>GLM</td>       <th>  Df Residuals:      </th>  <td>  1552</td> \n",
              "</tr>\n",
              "<tr>\n",
              "  <th>Model Family:</th>        <td>Binomial</td>     <th>  Df Model:          </th>  <td>     7</td> \n",
              "</tr>\n",
              "<tr>\n",
              "  <th>Link Function:</th>         <td>logit</td>      <th>  Scale:             </th> <td>  1.0000</td>\n",
              "</tr>\n",
              "<tr>\n",
              "  <th>Method:</th>                <td>IRLS</td>       <th>  Log-Likelihood:    </th> <td> -179.66</td>\n",
              "</tr>\n",
              "<tr>\n",
              "  <th>Date:</th>            <td>Fri, 04 Dec 2020</td> <th>  Deviance:          </th> <td>  359.32</td>\n",
              "</tr>\n",
              "<tr>\n",
              "  <th>Time:</th>                <td>02:16:40</td>     <th>  Pearson chi2:      </th> <td>1.68e+03</td>\n",
              "</tr>\n",
              "<tr>\n",
              "  <th>No. Iterations:</th>          <td>7</td>        <th>                     </th>     <td> </td>   \n",
              "</tr>\n",
              "<tr>\n",
              "  <th>Covariance Type:</th>     <td>nonrobust</td>    <th>                     </th>     <td> </td>   \n",
              "</tr>\n",
              "</table>\n",
              "<table class=\"simpletable\">\n",
              "<tr>\n",
              "           <td></td>              <th>coef</th>     <th>std err</th>      <th>z</th>      <th>P>|z|</th>  <th>[0.025</th>    <th>0.975]</th>  \n",
              "</tr>\n",
              "<tr>\n",
              "  <th>Intercept</th>           <td>   -3.0211</td> <td>    1.088</td> <td>   -2.777</td> <td> 0.005</td> <td>   -5.153</td> <td>   -0.889</td>\n",
              "</tr>\n",
              "<tr>\n",
              "  <th>MONTH</th>               <td>   -0.1324</td> <td>    0.050</td> <td>   -2.625</td> <td> 0.009</td> <td>   -0.231</td> <td>   -0.034</td>\n",
              "</tr>\n",
              "<tr>\n",
              "  <th>DAY_OF_WEEK</th>         <td>    0.1303</td> <td>    0.082</td> <td>    1.590</td> <td> 0.112</td> <td>   -0.030</td> <td>    0.291</td>\n",
              "</tr>\n",
              "<tr>\n",
              "  <th>FLIGHT_NUMBER</th>       <td>   -0.0003</td> <td>    0.000</td> <td>   -1.498</td> <td> 0.134</td> <td>   -0.001</td> <td>    0.000</td>\n",
              "</tr>\n",
              "<tr>\n",
              "  <th>DESTINATION_AIRPORT</th> <td> 2.313e-05</td> <td>    0.009</td> <td>    0.002</td> <td> 0.998</td> <td>   -0.018</td> <td>    0.019</td>\n",
              "</tr>\n",
              "<tr>\n",
              "  <th>SCHEDULED_DEPARTURE</th> <td>   -0.0001</td> <td>    0.000</td> <td>   -0.352</td> <td> 0.725</td> <td>   -0.001</td> <td>    0.001</td>\n",
              "</tr>\n",
              "<tr>\n",
              "  <th>SCHEDULED_TIME</th>      <td>    0.0032</td> <td>    0.014</td> <td>    0.225</td> <td> 0.822</td> <td>   -0.025</td> <td>    0.031</td>\n",
              "</tr>\n",
              "<tr>\n",
              "  <th>DISTANCE</th>            <td>   -0.0003</td> <td>    0.002</td> <td>   -0.159</td> <td> 0.874</td> <td>   -0.004</td> <td>    0.003</td>\n",
              "</tr>\n",
              "</table>"
            ],
            "text/plain": [
              "<class 'statsmodels.iolib.summary.Summary'>\n",
              "\"\"\"\n",
              "                 Generalized Linear Model Regression Results                  \n",
              "==============================================================================\n",
              "Dep. Variable:              CANCELLED   No. Observations:                 1560\n",
              "Model:                            GLM   Df Residuals:                     1552\n",
              "Model Family:                Binomial   Df Model:                            7\n",
              "Link Function:                  logit   Scale:                          1.0000\n",
              "Method:                          IRLS   Log-Likelihood:                -179.66\n",
              "Date:                Fri, 04 Dec 2020   Deviance:                       359.32\n",
              "Time:                        02:16:40   Pearson chi2:                 1.68e+03\n",
              "No. Iterations:                     7                                         \n",
              "Covariance Type:            nonrobust                                         \n",
              "=======================================================================================\n",
              "                          coef    std err          z      P>|z|      [0.025      0.975]\n",
              "---------------------------------------------------------------------------------------\n",
              "Intercept              -3.0211      1.088     -2.777      0.005      -5.153      -0.889\n",
              "MONTH                  -0.1324      0.050     -2.625      0.009      -0.231      -0.034\n",
              "DAY_OF_WEEK             0.1303      0.082      1.590      0.112      -0.030       0.291\n",
              "FLIGHT_NUMBER          -0.0003      0.000     -1.498      0.134      -0.001       0.000\n",
              "DESTINATION_AIRPORT  2.313e-05      0.009      0.002      0.998      -0.018       0.019\n",
              "SCHEDULED_DEPARTURE    -0.0001      0.000     -0.352      0.725      -0.001       0.001\n",
              "SCHEDULED_TIME          0.0032      0.014      0.225      0.822      -0.025       0.031\n",
              "DISTANCE               -0.0003      0.002     -0.159      0.874      -0.004       0.003\n",
              "=======================================================================================\n",
              "\"\"\""
            ]
          },
          "metadata": {
            "tags": []
          },
          "execution_count": 28
        }
      ]
    }
  ]
}