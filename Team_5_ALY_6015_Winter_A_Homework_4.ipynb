{
  "nbformat": 4,
  "nbformat_minor": 0,
  "metadata": {
    "colab": {
      "provenance": []
    },
    "kernelspec": {
      "name": "python3",
      "display_name": "Python 3"
    }
  },
  "cells": [
    {
      "cell_type": "markdown",
      "metadata": {
        "id": "BfPT8w4DLVky"
      },
      "source": [
        "### Team 5\n",
        "### ALY 6015\n",
        "### Homework Group Assignment 4\n",
        "### Winter A 2020\n",
        "### Last Updated 02/11/2020"
      ]
    },
    {
      "cell_type": "markdown",
      "metadata": {
        "id": "eea4gXHm0lYa"
      },
      "source": [
        "# Introduction:\n",
        "This is a classification dataset about heart disease which was collected from Cleveland. We will be applying many machine learning techniques including logistic regression, decision tree, and random forest to this dataset and predict who are more likely to get a heart disease and what is the major factor that causes a person to get the heart disease."
      ]
    },
    {
      "cell_type": "markdown",
      "metadata": {
        "id": "WdORQraK3DT6"
      },
      "source": []
    },
    {
      "cell_type": "markdown",
      "metadata": {
        "id": "twNQ2BXn1fTj"
      },
      "source": [
        "## Columns:\n",
        "- Age: age of patients\n",
        "- sex: 1 = male ; 0 = female\n",
        "- cp: chest pain type: 1=typical angina; 2=atypical angine; 3=non-anginal pain; 4=asymptomatic\n",
        "- trestbps: resting blood pressure (mm Hg)\n",
        "- chol: serum cholestrol (mg/dl)\n",
        "- fasting blood sugar: 1 if > 120 mg/dl; 0 otherwise\n",
        "- resecg: resting electrocardiographic results: 0=normal; 1=having ST-T wave abnormality; 2=showing probable or definite left ventricular hypertrophy\n",
        "- thalach: maximum heart rate achieved\n",
        "- exang: exercise induced angina: 1=yes; 0=no\n",
        "- oldpeak: ST depression induced by exercise relative to rest\n",
        "- slope: the slope of the peak exercise ST segment: 1=upsloping; 2=flat; 3=downsloping\n",
        "- ca: number of major vessels (0-3) colored by flourosopy\n",
        "- thal: 3=normal; 6=fixed defect; 7=reversable defect\n",
        "- num: predicted attribute; 0=HEART DISEASE; 1=NO HEART DISEASE"
      ]
    },
    {
      "cell_type": "code",
      "metadata": {
        "id": "Yttg9VhWrprn"
      },
      "source": [
        "import pandas as pd\n",
        "import numpy as np\n",
        "import seaborn as sns\n",
        "import matplotlib.pyplot as plt\n",
        "from google.colab import files\n",
        "from sklearn.model_selection import GridSearchCV\n",
        "from sklearn.metrics import roc_auc_score\n",
        "from sklearn.metrics import roc_curve\n",
        "from sklearn.linear_model import LogisticRegression\n",
        "from sklearn.model_selection import train_test_split\n",
        "from sklearn.metrics import confusion_matrix\n",
        "from sklearn.model_selection import cross_val_score\n",
        "from sklearn.metrics import classification_report\n",
        "from sklearn.ensemble import RandomForestClassifier\n",
        "from sklearn.svm import SVC\n",
        "from sklearn.model_selection import RandomizedSearchCV\n",
        "from sklearn.model_selection import train_test_split\n",
        "from sklearn.tree import DecisionTreeClassifier\n",
        "from sklearn.metrics import accuracy_score\n",
        "from sklearn import tree\n",
        "from sklearn.preprocessing import LabelEncoder\n",
        "from sklearn.metrics import plot_confusion_matrix\n",
        "from pandas_datareader import data, wb\n",
        "import warnings\n",
        "warnings.filterwarnings('ignore')"
      ],
      "execution_count": null,
      "outputs": []
    },
    {
      "cell_type": "code",
      "metadata": {
        "id": "RM-Unq0jzOH8"
      },
      "source": [
        "data_url='https://docs.google.com/spreadsheets/d/e/2PACX-1vRBlVmRtrZI9aH1a94hL5JKTysOD23t4X3EkWzVmVqwDhp77sfrwM6322Net4ng_M56TgPusIjdQRn9/pub?gid=1933093409&single=true&output=csv'"
      ],
      "execution_count": null,
      "outputs": []
    },
    {
      "cell_type": "code",
      "metadata": {
        "id": "5GDLeMjJ21UP",
        "colab": {
          "base_uri": "https://localhost:8080/",
          "height": 204
        },
        "outputId": "f1d12d3b-bbc3-4fd4-d1ec-e17f4add2ef8"
      },
      "source": [
        "df = pd.read_csv(data_url)\n",
        "df.head()"
      ],
      "execution_count": null,
      "outputs": [
        {
          "output_type": "execute_result",
          "data": {
            "text/html": [
              "<div>\n",
              "<style scoped>\n",
              "    .dataframe tbody tr th:only-of-type {\n",
              "        vertical-align: middle;\n",
              "    }\n",
              "\n",
              "    .dataframe tbody tr th {\n",
              "        vertical-align: top;\n",
              "    }\n",
              "\n",
              "    .dataframe thead th {\n",
              "        text-align: right;\n",
              "    }\n",
              "</style>\n",
              "<table border=\"1\" class=\"dataframe\">\n",
              "  <thead>\n",
              "    <tr style=\"text-align: right;\">\n",
              "      <th></th>\n",
              "      <th>age</th>\n",
              "      <th>sex</th>\n",
              "      <th>cp</th>\n",
              "      <th>trestbps</th>\n",
              "      <th>chol</th>\n",
              "      <th>fbs</th>\n",
              "      <th>restecg</th>\n",
              "      <th>thalach</th>\n",
              "      <th>exang</th>\n",
              "      <th>oldpeak</th>\n",
              "      <th>slope</th>\n",
              "      <th>ca</th>\n",
              "      <th>thal</th>\n",
              "      <th>num</th>\n",
              "    </tr>\n",
              "  </thead>\n",
              "  <tbody>\n",
              "    <tr>\n",
              "      <th>0</th>\n",
              "      <td>63</td>\n",
              "      <td>1</td>\n",
              "      <td>1</td>\n",
              "      <td>145</td>\n",
              "      <td>233</td>\n",
              "      <td>1</td>\n",
              "      <td>2</td>\n",
              "      <td>150</td>\n",
              "      <td>0</td>\n",
              "      <td>2.3</td>\n",
              "      <td>3</td>\n",
              "      <td>0</td>\n",
              "      <td>6</td>\n",
              "      <td>0</td>\n",
              "    </tr>\n",
              "    <tr>\n",
              "      <th>1</th>\n",
              "      <td>67</td>\n",
              "      <td>1</td>\n",
              "      <td>4</td>\n",
              "      <td>160</td>\n",
              "      <td>286</td>\n",
              "      <td>0</td>\n",
              "      <td>2</td>\n",
              "      <td>108</td>\n",
              "      <td>1</td>\n",
              "      <td>1.5</td>\n",
              "      <td>2</td>\n",
              "      <td>3</td>\n",
              "      <td>3</td>\n",
              "      <td>1</td>\n",
              "    </tr>\n",
              "    <tr>\n",
              "      <th>2</th>\n",
              "      <td>67</td>\n",
              "      <td>1</td>\n",
              "      <td>4</td>\n",
              "      <td>120</td>\n",
              "      <td>229</td>\n",
              "      <td>0</td>\n",
              "      <td>2</td>\n",
              "      <td>129</td>\n",
              "      <td>1</td>\n",
              "      <td>2.6</td>\n",
              "      <td>2</td>\n",
              "      <td>2</td>\n",
              "      <td>7</td>\n",
              "      <td>1</td>\n",
              "    </tr>\n",
              "    <tr>\n",
              "      <th>3</th>\n",
              "      <td>37</td>\n",
              "      <td>1</td>\n",
              "      <td>3</td>\n",
              "      <td>130</td>\n",
              "      <td>250</td>\n",
              "      <td>0</td>\n",
              "      <td>0</td>\n",
              "      <td>187</td>\n",
              "      <td>0</td>\n",
              "      <td>3.5</td>\n",
              "      <td>3</td>\n",
              "      <td>0</td>\n",
              "      <td>3</td>\n",
              "      <td>0</td>\n",
              "    </tr>\n",
              "    <tr>\n",
              "      <th>4</th>\n",
              "      <td>41</td>\n",
              "      <td>0</td>\n",
              "      <td>2</td>\n",
              "      <td>130</td>\n",
              "      <td>204</td>\n",
              "      <td>0</td>\n",
              "      <td>2</td>\n",
              "      <td>172</td>\n",
              "      <td>0</td>\n",
              "      <td>1.4</td>\n",
              "      <td>1</td>\n",
              "      <td>0</td>\n",
              "      <td>3</td>\n",
              "      <td>0</td>\n",
              "    </tr>\n",
              "  </tbody>\n",
              "</table>\n",
              "</div>"
            ],
            "text/plain": [
              "   age  sex  cp  trestbps  chol  fbs  ...  exang  oldpeak  slope  ca  thal  num\n",
              "0   63    1   1       145   233    1  ...      0      2.3      3   0     6    0\n",
              "1   67    1   4       160   286    0  ...      1      1.5      2   3     3    1\n",
              "2   67    1   4       120   229    0  ...      1      2.6      2   2     7    1\n",
              "3   37    1   3       130   250    0  ...      0      3.5      3   0     3    0\n",
              "4   41    0   2       130   204    0  ...      0      1.4      1   0     3    0\n",
              "\n",
              "[5 rows x 14 columns]"
            ]
          },
          "metadata": {
            "tags": []
          },
          "execution_count": 3
        }
      ]
    },
    {
      "cell_type": "code",
      "metadata": {
        "id": "p7ahNkbn3_KI",
        "colab": {
          "base_uri": "https://localhost:8080/",
          "height": 272
        },
        "outputId": "992480c6-5752-429f-8793-2b91e9944d3b"
      },
      "source": [
        "df.isnull().sum()"
      ],
      "execution_count": null,
      "outputs": [
        {
          "output_type": "execute_result",
          "data": {
            "text/plain": [
              "age         0\n",
              "sex         0\n",
              "cp          0\n",
              "trestbps    0\n",
              "chol        0\n",
              "fbs         0\n",
              "restecg     0\n",
              "thalach     0\n",
              "exang       0\n",
              "oldpeak     0\n",
              "slope       0\n",
              "ca          0\n",
              "thal        0\n",
              "num         0\n",
              "dtype: int64"
            ]
          },
          "metadata": {
            "tags": []
          },
          "execution_count": 4
        }
      ]
    },
    {
      "cell_type": "code",
      "metadata": {
        "id": "84cRQ2bc4Ad-",
        "colab": {
          "base_uri": "https://localhost:8080/",
          "height": 340
        },
        "outputId": "d28b8dab-dab5-4086-86d4-76eeaa61ae24"
      },
      "source": [
        "df.info()"
      ],
      "execution_count": null,
      "outputs": [
        {
          "output_type": "stream",
          "text": [
            "<class 'pandas.core.frame.DataFrame'>\n",
            "RangeIndex: 303 entries, 0 to 302\n",
            "Data columns (total 14 columns):\n",
            "age         303 non-null int64\n",
            "sex         303 non-null int64\n",
            "cp          303 non-null int64\n",
            "trestbps    303 non-null int64\n",
            "chol        303 non-null int64\n",
            "fbs         303 non-null int64\n",
            "restecg     303 non-null int64\n",
            "thalach     303 non-null int64\n",
            "exang       303 non-null int64\n",
            "oldpeak     303 non-null float64\n",
            "slope       303 non-null int64\n",
            "ca          303 non-null int64\n",
            "thal        303 non-null int64\n",
            "num         303 non-null int64\n",
            "dtypes: float64(1), int64(13)\n",
            "memory usage: 33.3 KB\n"
          ],
          "name": "stdout"
        }
      ]
    },
    {
      "cell_type": "markdown",
      "metadata": {
        "id": "hXk0yYtHP6g7"
      },
      "source": [
        "We don't need to encode because all of the values are numeric."
      ]
    },
    {
      "cell_type": "markdown",
      "metadata": {
        "id": "bFnw0MblRtBJ"
      },
      "source": [
        "# Exploratory Data Analysis"
      ]
    },
    {
      "cell_type": "code",
      "metadata": {
        "id": "DGQZFBXdfJvH",
        "colab": {
          "base_uri": "https://localhost:8080/",
          "height": 334
        },
        "outputId": "87f9cd9c-189b-4265-e8b3-54c062ea9487"
      },
      "source": [
        "plt.figure(figsize=(12,5))\n",
        "sns.countplot(x=\"num\", data=df, palette=\"Set1\")\n",
        "plt.show()"
      ],
      "execution_count": null,
      "outputs": [
        {
          "output_type": "display_data",
          "data": {
            "image/png": "[encoded data removed]",
            "text/plain": [
              "<Figure size 864x360 with 1 Axes>"
            ]
          },
          "metadata": {
            "tags": []
          }
        }
      ]
    },
    {
      "cell_type": "code",
      "metadata": {
        "id": "XNuckvsXfbQ6",
        "colab": {
          "base_uri": "https://localhost:8080/",
          "height": 51
        },
        "outputId": "05438a42-25e9-44cd-8f6e-98c9ab52c86a"
      },
      "source": [
        "countFemale = len(df[df.sex == 0])\n",
        "countMale = len(df[df.sex == 1])\n",
        "print(\"Percentage of Female Patients: {:.2f}%\".format((countFemale / (len(df.sex))*100)))\n",
        "print(\"Percentage of Male Patients: {:.2f}%\".format((countMale / (len(df.sex))*100)))"
      ],
      "execution_count": null,
      "outputs": [
        {
          "output_type": "stream",
          "text": [
            "Percentage of Female Patients: 32.01%\n",
            "Percentage of Male Patients: 67.99%\n"
          ],
          "name": "stdout"
        }
      ]
    },
    {
      "cell_type": "code",
      "metadata": {
        "id": "5Gxstahofn_Z",
        "colab": {
          "base_uri": "https://localhost:8080/",
          "height": 142
        },
        "outputId": "25c47e98-982d-4698-a1e6-e42b32d61590"
      },
      "source": [
        "df.groupby('num').mean()"
      ],
      "execution_count": null,
      "outputs": [
        {
          "output_type": "execute_result",
          "data": {
            "text/html": [
              "<div>\n",
              "<style scoped>\n",
              "    .dataframe tbody tr th:only-of-type {\n",
              "        vertical-align: middle;\n",
              "    }\n",
              "\n",
              "    .dataframe tbody tr th {\n",
              "        vertical-align: top;\n",
              "    }\n",
              "\n",
              "    .dataframe thead th {\n",
              "        text-align: right;\n",
              "    }\n",
              "</style>\n",
              "<table border=\"1\" class=\"dataframe\">\n",
              "  <thead>\n",
              "    <tr style=\"text-align: right;\">\n",
              "      <th></th>\n",
              "      <th>age</th>\n",
              "      <th>sex</th>\n",
              "      <th>cp</th>\n",
              "      <th>trestbps</th>\n",
              "      <th>chol</th>\n",
              "      <th>fbs</th>\n",
              "      <th>restecg</th>\n",
              "      <th>thalach</th>\n",
              "      <th>exang</th>\n",
              "      <th>oldpeak</th>\n",
              "      <th>slope</th>\n",
              "      <th>ca</th>\n",
              "      <th>thal</th>\n",
              "    </tr>\n",
              "    <tr>\n",
              "      <th>num</th>\n",
              "      <th></th>\n",
              "      <th></th>\n",
              "      <th></th>\n",
              "      <th></th>\n",
              "      <th></th>\n",
              "      <th></th>\n",
              "      <th></th>\n",
              "      <th></th>\n",
              "      <th></th>\n",
              "      <th></th>\n",
              "      <th></th>\n",
              "      <th></th>\n",
              "      <th></th>\n",
              "    </tr>\n",
              "  </thead>\n",
              "  <tbody>\n",
              "    <tr>\n",
              "      <th>0</th>\n",
              "      <td>52.585366</td>\n",
              "      <td>0.560976</td>\n",
              "      <td>2.792683</td>\n",
              "      <td>129.250000</td>\n",
              "      <td>242.640244</td>\n",
              "      <td>0.140244</td>\n",
              "      <td>0.835366</td>\n",
              "      <td>158.378049</td>\n",
              "      <td>0.140244</td>\n",
              "      <td>0.586585</td>\n",
              "      <td>1.408537</td>\n",
              "      <td>-1829.000000</td>\n",
              "      <td>-605.981707</td>\n",
              "    </tr>\n",
              "    <tr>\n",
              "      <th>1</th>\n",
              "      <td>56.625899</td>\n",
              "      <td>0.820144</td>\n",
              "      <td>3.589928</td>\n",
              "      <td>134.568345</td>\n",
              "      <td>251.474820</td>\n",
              "      <td>0.158273</td>\n",
              "      <td>1.172662</td>\n",
              "      <td>139.258993</td>\n",
              "      <td>0.546763</td>\n",
              "      <td>1.574101</td>\n",
              "      <td>1.827338</td>\n",
              "      <td>-718.294964</td>\n",
              "      <td>-713.625899</td>\n",
              "    </tr>\n",
              "  </tbody>\n",
              "</table>\n",
              "</div>"
            ],
            "text/plain": [
              "           age       sex        cp  ...     slope           ca        thal\n",
              "num                                 ...                                   \n",
              "0    52.585366  0.560976  2.792683  ...  1.408537 -1829.000000 -605.981707\n",
              "1    56.625899  0.820144  3.589928  ...  1.827338  -718.294964 -713.625899\n",
              "\n",
              "[2 rows x 13 columns]"
            ]
          },
          "metadata": {
            "tags": []
          },
          "execution_count": 8
        }
      ]
    },
    {
      "cell_type": "code",
      "metadata": {
        "id": "FMg5RgKI6DMn",
        "colab": {
          "base_uri": "https://localhost:8080/",
          "height": 317
        },
        "outputId": "55d2529a-68e7-4c89-bb68-f526ca9e7629"
      },
      "source": [
        "# Show some statistics about dataset\n",
        "df.describe()"
      ],
      "execution_count": null,
      "outputs": [
        {
          "output_type": "execute_result",
          "data": {
            "text/html": [
              "<div>\n",
              "<style scoped>\n",
              "    .dataframe tbody tr th:only-of-type {\n",
              "        vertical-align: middle;\n",
              "    }\n",
              "\n",
              "    .dataframe tbody tr th {\n",
              "        vertical-align: top;\n",
              "    }\n",
              "\n",
              "    .dataframe thead th {\n",
              "        text-align: right;\n",
              "    }\n",
              "</style>\n",
              "<table border=\"1\" class=\"dataframe\">\n",
              "  <thead>\n",
              "    <tr style=\"text-align: right;\">\n",
              "      <th></th>\n",
              "      <th>age</th>\n",
              "      <th>sex</th>\n",
              "      <th>cp</th>\n",
              "      <th>trestbps</th>\n",
              "      <th>chol</th>\n",
              "      <th>fbs</th>\n",
              "      <th>restecg</th>\n",
              "      <th>thalach</th>\n",
              "      <th>exang</th>\n",
              "      <th>oldpeak</th>\n",
              "      <th>slope</th>\n",
              "      <th>ca</th>\n",
              "      <th>thal</th>\n",
              "      <th>num</th>\n",
              "    </tr>\n",
              "  </thead>\n",
              "  <tbody>\n",
              "    <tr>\n",
              "      <th>count</th>\n",
              "      <td>303.000000</td>\n",
              "      <td>303.000000</td>\n",
              "      <td>303.000000</td>\n",
              "      <td>303.000000</td>\n",
              "      <td>303.000000</td>\n",
              "      <td>303.000000</td>\n",
              "      <td>303.000000</td>\n",
              "      <td>303.000000</td>\n",
              "      <td>303.000000</td>\n",
              "      <td>303.000000</td>\n",
              "      <td>303.000000</td>\n",
              "      <td>303.000000</td>\n",
              "      <td>303.000000</td>\n",
              "      <td>303.000000</td>\n",
              "    </tr>\n",
              "    <tr>\n",
              "      <th>mean</th>\n",
              "      <td>54.438944</td>\n",
              "      <td>0.679868</td>\n",
              "      <td>3.158416</td>\n",
              "      <td>131.689769</td>\n",
              "      <td>246.693069</td>\n",
              "      <td>0.148515</td>\n",
              "      <td>0.990099</td>\n",
              "      <td>149.607261</td>\n",
              "      <td>0.326733</td>\n",
              "      <td>1.039604</td>\n",
              "      <td>1.600660</td>\n",
              "      <td>-1319.468647</td>\n",
              "      <td>-655.363036</td>\n",
              "      <td>0.458746</td>\n",
              "    </tr>\n",
              "    <tr>\n",
              "      <th>std</th>\n",
              "      <td>9.038662</td>\n",
              "      <td>0.467299</td>\n",
              "      <td>0.960126</td>\n",
              "      <td>17.599748</td>\n",
              "      <td>51.776918</td>\n",
              "      <td>0.356198</td>\n",
              "      <td>0.994971</td>\n",
              "      <td>22.875003</td>\n",
              "      <td>0.469794</td>\n",
              "      <td>1.161075</td>\n",
              "      <td>0.616226</td>\n",
              "      <td>11432.566205</td>\n",
              "      <td>8111.366638</td>\n",
              "      <td>0.499120</td>\n",
              "    </tr>\n",
              "    <tr>\n",
              "      <th>min</th>\n",
              "      <td>29.000000</td>\n",
              "      <td>0.000000</td>\n",
              "      <td>1.000000</td>\n",
              "      <td>94.000000</td>\n",
              "      <td>126.000000</td>\n",
              "      <td>0.000000</td>\n",
              "      <td>0.000000</td>\n",
              "      <td>71.000000</td>\n",
              "      <td>0.000000</td>\n",
              "      <td>0.000000</td>\n",
              "      <td>1.000000</td>\n",
              "      <td>-100000.000000</td>\n",
              "      <td>-100000.000000</td>\n",
              "      <td>0.000000</td>\n",
              "    </tr>\n",
              "    <tr>\n",
              "      <th>25%</th>\n",
              "      <td>48.000000</td>\n",
              "      <td>0.000000</td>\n",
              "      <td>3.000000</td>\n",
              "      <td>120.000000</td>\n",
              "      <td>211.000000</td>\n",
              "      <td>0.000000</td>\n",
              "      <td>0.000000</td>\n",
              "      <td>133.500000</td>\n",
              "      <td>0.000000</td>\n",
              "      <td>0.000000</td>\n",
              "      <td>1.000000</td>\n",
              "      <td>0.000000</td>\n",
              "      <td>3.000000</td>\n",
              "      <td>0.000000</td>\n",
              "    </tr>\n",
              "    <tr>\n",
              "      <th>50%</th>\n",
              "      <td>56.000000</td>\n",
              "      <td>1.000000</td>\n",
              "      <td>3.000000</td>\n",
              "      <td>130.000000</td>\n",
              "      <td>241.000000</td>\n",
              "      <td>0.000000</td>\n",
              "      <td>1.000000</td>\n",
              "      <td>153.000000</td>\n",
              "      <td>0.000000</td>\n",
              "      <td>0.800000</td>\n",
              "      <td>2.000000</td>\n",
              "      <td>0.000000</td>\n",
              "      <td>3.000000</td>\n",
              "      <td>0.000000</td>\n",
              "    </tr>\n",
              "    <tr>\n",
              "      <th>75%</th>\n",
              "      <td>61.000000</td>\n",
              "      <td>1.000000</td>\n",
              "      <td>4.000000</td>\n",
              "      <td>140.000000</td>\n",
              "      <td>275.000000</td>\n",
              "      <td>0.000000</td>\n",
              "      <td>2.000000</td>\n",
              "      <td>166.000000</td>\n",
              "      <td>1.000000</td>\n",
              "      <td>1.600000</td>\n",
              "      <td>2.000000</td>\n",
              "      <td>1.000000</td>\n",
              "      <td>7.000000</td>\n",
              "      <td>1.000000</td>\n",
              "    </tr>\n",
              "    <tr>\n",
              "      <th>max</th>\n",
              "      <td>77.000000</td>\n",
              "      <td>1.000000</td>\n",
              "      <td>4.000000</td>\n",
              "      <td>200.000000</td>\n",
              "      <td>564.000000</td>\n",
              "      <td>1.000000</td>\n",
              "      <td>2.000000</td>\n",
              "      <td>202.000000</td>\n",
              "      <td>1.000000</td>\n",
              "      <td>6.200000</td>\n",
              "      <td>3.000000</td>\n",
              "      <td>3.000000</td>\n",
              "      <td>7.000000</td>\n",
              "      <td>1.000000</td>\n",
              "    </tr>\n",
              "  </tbody>\n",
              "</table>\n",
              "</div>"
            ],
            "text/plain": [
              "              age         sex  ...           thal         num\n",
              "count  303.000000  303.000000  ...     303.000000  303.000000\n",
              "mean    54.438944    0.679868  ...    -655.363036    0.458746\n",
              "std      9.038662    0.467299  ...    8111.366638    0.499120\n",
              "min     29.000000    0.000000  ... -100000.000000    0.000000\n",
              "25%     48.000000    0.000000  ...       3.000000    0.000000\n",
              "50%     56.000000    1.000000  ...       3.000000    0.000000\n",
              "75%     61.000000    1.000000  ...       7.000000    1.000000\n",
              "max     77.000000    1.000000  ...       7.000000    1.000000\n",
              "\n",
              "[8 rows x 14 columns]"
            ]
          },
          "metadata": {
            "tags": []
          },
          "execution_count": 9
        }
      ]
    },
    {
      "cell_type": "code",
      "metadata": {
        "id": "Qh6FtMGBa7s8",
        "colab": {
          "base_uri": "https://localhost:8080/",
          "height": 606
        },
        "outputId": "5d64036f-f13c-47dc-b6c2-e2af9d571ede"
      },
      "source": [
        "plt.figure(figsize=(15,10))\n",
        "sns.countplot(x='age' ,hue='sex',data=df)\n",
        "plt.show()"
      ],
      "execution_count": null,
      "outputs": [
        {
          "output_type": "display_data",
          "data": {
            "image/png": "[encoded data removed]",
            "text/plain": [
              "<Figure size 1080x720 with 1 Axes>"
            ]
          },
          "metadata": {
            "tags": []
          }
        }
      ]
    },
    {
      "cell_type": "code",
      "metadata": {
        "id": "mX_x9sAgbbas",
        "colab": {
          "base_uri": "https://localhost:8080/",
          "height": 334
        },
        "outputId": "d054fa57-f283-49f1-94d1-681dc49ae532"
      },
      "source": [
        "plt.figure(figsize=(16,5))\n",
        "sns.countplot(x='sex', hue='num',data=df)\n",
        "plt.show()"
      ],
      "execution_count": null,
      "outputs": [
        {
          "output_type": "display_data",
          "data": {
            "image/png": "[encoded data removed]",
            "text/plain": [
              "<Figure size 1152x360 with 1 Axes>"
            ]
          },
          "metadata": {
            "tags": []
          }
        }
      ]
    },
    {
      "cell_type": "code",
      "metadata": {
        "id": "zRKkEdRe-_8r",
        "colab": {
          "base_uri": "https://localhost:8080/",
          "height": 714
        },
        "outputId": "7e85af33-7661-4802-9caf-15cb27002624"
      },
      "source": [
        "fig, axes = plt.subplots(3, 2, figsize=(22,12))\n",
        "series = ['cp', 'fbs', 'restecg','exang', 'slope', 'ca']\n",
        "for i, X in enumerate(axes.flat):\n",
        "    sns.countplot(x=series[i], hue='num', data=df, palette='Set2', ax=X)\n",
        "    X.set(ylabel='Frequency')\n",
        "    X.legend([\"No Disease\", \"Has Disease\"])"
      ],
      "execution_count": null,
      "outputs": [
        {
          "output_type": "display_data",
          "data": {
            "image/png": "[encoded data removed]",
            "text/plain": [
              "<Figure size 1584x864 with 6 Axes>"
            ]
          },
          "metadata": {
            "tags": []
          }
        }
      ]
    },
    {
      "cell_type": "code",
      "metadata": {
        "id": "th626cSS78QY"
      },
      "source": [
        "age_unique=sorted(df.age.unique())\n",
        "group_values=df.groupby('age')['chol'].count().values\n",
        "mean_chol=[]\n",
        "for i,age in enumerate(age_unique):\n",
        "    mean_chol.append(sum(df[df['age']==age].chol)/group_values[i])"
      ],
      "execution_count": null,
      "outputs": []
    },
    {
      "cell_type": "code",
      "metadata": {
        "id": "G9Mr2W7R8jRu",
        "colab": {
          "base_uri": "https://localhost:8080/",
          "height": 376
        },
        "outputId": "2a17b421-54b9-44c1-f2fa-936efaf2deab"
      },
      "source": [
        "plt.figure(figsize=(23,5))\n",
        "sns.pointplot(x=age_unique,y=mean_chol,color='red')\n",
        "plt.xlabel('age',color='blue')\n",
        "plt.xticks(rotation=45)\n",
        "plt.ylabel('chol',color='blue')\n",
        "plt.title('Age vs chol ',color='blue')\n",
        "plt.grid()\n",
        "plt.show()"
      ],
      "execution_count": null,
      "outputs": [
        {
          "output_type": "display_data",
          "data": {
            "image/png": "[encoded data removed]",
            "text/plain": [
              "<Figure size 1656x360 with 1 Axes>"
            ]
          },
          "metadata": {
            "tags": []
          }
        }
      ]
    },
    {
      "cell_type": "code",
      "metadata": {
        "id": "TwYYj0Cy-1Y2",
        "colab": {
          "base_uri": "https://localhost:8080/",
          "height": 334
        },
        "outputId": "4e2ef71d-a50a-479c-c923-b87c73669df1"
      },
      "source": [
        "plt.figure(figsize=(20,5))\n",
        "sns.scatterplot(x='age',y='thalach',data=df,hue='num')\n",
        "plt.show()"
      ],
      "execution_count": null,
      "outputs": [
        {
          "output_type": "display_data",
          "data": {
            "image/png": "[encoded data removed]",
            "text/plain": [
              "<Figure size 1440x360 with 1 Axes>"
            ]
          },
          "metadata": {
            "tags": []
          }
        }
      ]
    },
    {
      "cell_type": "code",
      "metadata": {
        "id": "4Oh59hAFbx2C",
        "colab": {
          "base_uri": "https://localhost:8080/",
          "height": 334
        },
        "outputId": "07a01e6c-84f5-4a04-d67d-c230367d417d"
      },
      "source": [
        "plt.figure(figsize=(20,5))\n",
        "plt.scatter(x=df.age[df.num==1], y=df.thalach[(df.num==1)], c=\"red\")\n",
        "plt.scatter(x=df.age[df.num==0], y=df.thalach[(df.num==0)])\n",
        "plt.legend([\"Disease\", \"Not Disease\"])\n",
        "plt.xlabel(\"Age\")\n",
        "plt.ylabel(\"Maximum Heart Rate\")\n",
        "plt.show()"
      ],
      "execution_count": null,
      "outputs": [
        {
          "output_type": "display_data",
          "data": {
            "image/png": "[encoded data removed]",
            "text/plain": [
              "<Figure size 1440x360 with 1 Axes>"
            ]
          },
          "metadata": {
            "tags": []
          }
        }
      ]
    },
    {
      "cell_type": "markdown",
      "metadata": {
        "id": "E2yfNIi4WNz-"
      },
      "source": [
        "# Data Analysis Part 1"
      ]
    },
    {
      "cell_type": "markdown",
      "metadata": {
        "id": "6aUanJvbo6Q1"
      },
      "source": [
        "For the data analysis we assigned the target variable to y and the independent variables to X, and split the data, we split the data for training and testing."
      ]
    },
    {
      "cell_type": "code",
      "metadata": {
        "id": "z67-ur12kWki"
      },
      "source": [
        "X=df.drop('num',axis=1)\n",
        "y=df.num"
      ],
      "execution_count": null,
      "outputs": []
    },
    {
      "cell_type": "code",
      "metadata": {
        "id": "DkTsf7vR5DOp"
      },
      "source": [
        "\n",
        "X_train,X_test,y_train,y_test=train_test_split(X,y,test_size=0.25,random_state=2)"
      ],
      "execution_count": null,
      "outputs": []
    },
    {
      "cell_type": "markdown",
      "metadata": {
        "id": "SdZfsL3b_re8"
      },
      "source": [
        "## Logistic Regression"
      ]
    },
    {
      "cell_type": "markdown",
      "metadata": {
        "id": "yfIJHjzopmi2"
      },
      "source": [
        "Logistic Regression is the basic classifer, and the effective model.\n",
        "Here we build basic logistics Regression and gave the classification report for the model."
      ]
    },
    {
      "cell_type": "code",
      "metadata": {
        "id": "K52yjS-6QXtb",
        "colab": {
          "base_uri": "https://localhost:8080/",
          "height": 504
        },
        "outputId": "6a0008c3-523c-40ee-f9e0-317c8fbd8439"
      },
      "source": [
        "# logistic\n",
        "warnings.filterwarnings('ignore')\n",
        "\n",
        "classifier1=LogisticRegression().fit(X_train,y_train)\n",
        "y_pred1=classifier1.predict(X_test)\n",
        "print(\"classification report for Logistic regression\")\n",
        "print(classification_report(y_test,y_pred1))\n",
        "plot_confusion_matrix(classifier1,X_test,y_test,cmap='OrRd')\n",
        "cm1 = confusion_matrix( y_test, y_pred1 )\n",
        "print(\"Accuracy on Test Set for Logistic Regression : %.2f\" % ((cm1[0,0] + cm1[1,1] )/len(X_test)))\n",
        "scoresLR1 = cross_val_score( classifier1, X_train, y_train, cv=2)\n",
        "print(\"Logistic Regression (liblinear) CrossVal Train Set Accuracy Mean: %.2f and Standard Deviation: %.2f \\n\" % (scoresLR1.mean(), scoresLR1.std() ))"
      ],
      "execution_count": null,
      "outputs": [
        {
          "output_type": "stream",
          "text": [
            "classification report for Logistic regression\n",
            "              precision    recall  f1-score   support\n",
            "\n",
            "           0       0.78      0.80      0.79        44\n",
            "           1       0.71      0.69      0.70        32\n",
            "\n",
            "    accuracy                           0.75        76\n",
            "   macro avg       0.74      0.74      0.74        76\n",
            "weighted avg       0.75      0.75      0.75        76\n",
            "\n",
            "Accuracy on Test Set for Logistic Regression : 0.75\n",
            "Logistic Regression (liblinear) CrossVal Train Set Accuracy Mean: 0.80 and Standard Deviation: 0.02 \n",
            "\n"
          ],
          "name": "stdout"
        },
        {
          "output_type": "display_data",
          "data": {
            "image/png": "[encoded data removed]",
            "text/plain": [
              "<Figure size 432x288 with 2 Axes>"
            ]
          },
          "metadata": {
            "tags": []
          }
        }
      ]
    },
    {
      "cell_type": "code",
      "metadata": {
        "id": "STFh5lvZCRaH"
      },
      "source": [
        "accuracies = {}\n",
        "acc = classifier1.score(X_test,y_test)*100\n",
        "accuracies['Logistic Regression'] = acc\n"
      ],
      "execution_count": null,
      "outputs": []
    },
    {
      "cell_type": "markdown",
      "metadata": {
        "id": "j74Yvn8B_-oX"
      },
      "source": [
        "## Decision Tree Classifier (entropy)\n"
      ]
    },
    {
      "cell_type": "markdown",
      "metadata": {
        "id": "QO4Lk-QvqCDz"
      },
      "source": [
        "The basic decison tree is split based on entrophy, here we built a basic decision tree and measured its performance with f1-score of 0.76."
      ]
    },
    {
      "cell_type": "code",
      "metadata": {
        "id": "q3ca4nfMRKkg",
        "colab": {
          "base_uri": "https://localhost:8080/",
          "height": 500
        },
        "outputId": "a0ee7d24-3e80-49e1-91c6-e561f8016589"
      },
      "source": [
        "# Decision Tree\n",
        "classifier3 = DecisionTreeClassifier()\n",
        "classifier3.fit( X_train, y_train )\n",
        "y_pred3 = classifier3.predict( X_test )\n",
        "\n",
        "cm3 = confusion_matrix( y_test, y_pred3 )\n",
        "plot_confusion_matrix(classifier3,X_test,y_test)\n",
        "print(\"Classification report for Decision Tree\")\n",
        "print(classification_report(y_test,y_pred3))\n",
        "print(\"Accuracy on Test Set for Decision Tree (entropy) = %.2f\" % ((cm3[0,0] + cm3[1,1] )/len(X_test)))\n",
        "scoresDT3 = cross_val_score( classifier3, X_train, y_train, cv=2)\n",
        "print(\"Mean Decision Tree (entropy) CrossVal Train Set Accuracy Mean: %.2f and Standard Deviation: %.2f \\n\" % (scoresDT3.mean(), scoresDT3.std() ))"
      ],
      "execution_count": null,
      "outputs": [
        {
          "output_type": "stream",
          "text": [
            "Classification report for Decision Tree\n",
            "              precision    recall  f1-score   support\n",
            "\n",
            "           0       0.80      0.73      0.76        44\n",
            "           1       0.67      0.75      0.71        32\n",
            "\n",
            "    accuracy                           0.74        76\n",
            "   macro avg       0.73      0.74      0.73        76\n",
            "weighted avg       0.74      0.74      0.74        76\n",
            "\n",
            "Accuracy on Test Set for Decision Tree (entropy) = 0.74\n",
            "Mean Decision Tree (entropy) CrossVal Train Set Accuracy Mean: 0.66 and Standard Deviation: 0.01 \n",
            "\n"
          ],
          "name": "stdout"
        },
        {
          "output_type": "display_data",
          "data": {
            "image/png": "[encoded data removed]",
            "text/plain": [
              "<Figure size 432x288 with 2 Axes>"
            ]
          },
          "metadata": {
            "tags": []
          }
        }
      ]
    },
    {
      "cell_type": "code",
      "metadata": {
        "id": "l0ZQLJfpDENA"
      },
      "source": [
        "acc = classifier3.score(X_test,y_test)*100\n",
        "accuracies['Decision Tree'] = acc"
      ],
      "execution_count": null,
      "outputs": []
    },
    {
      "cell_type": "markdown",
      "metadata": {
        "id": "AoIILzOTAKwp"
      },
      "source": [
        "## Random Forest Classifier\n",
        "Best Performance\n",
        "- It has the highest accuracy score which is 0.86. The logistic regression has an accuracy score of 0.75 and the decision tree has 0.71."
      ]
    },
    {
      "cell_type": "code",
      "metadata": {
        "id": "e4U8G-g4Aj9G",
        "colab": {
          "base_uri": "https://localhost:8080/",
          "height": 500
        },
        "outputId": "6468d27b-69bc-4c1d-887c-5d04d20e82b2"
      },
      "source": [
        "# Random Forests\n",
        "classifier4 = RandomForestClassifier()\n",
        "classifier4.fit( X_train, y_train )\n",
        "y_pred4 = classifier4.predict( X_test )\n",
        "\n",
        "cm4 = confusion_matrix( y_test, y_pred4 )\n",
        "plot_confusion_matrix(classifier4,X_test,y_test)\n",
        "print(\"Classification report for Random Forest\")\n",
        "print(classification_report(y_test,y_pred3))\n",
        "print(\"Accuracy on Test Set for Random Forest = %.2f\" % ((cm4[0,0] + cm3[1,1] )/len(X_test)))\n",
        "scoresRF4= cross_val_score( classifier4, X_train, y_train, cv=2)\n",
        "print(\"Mean Decision Tree (entropy) CrossVal Train Set Accuracy Mean: %.2f and Standard Deviation: %.2f \\n\" % (scoresRF4.mean(), scoresRF4.std() ))"
      ],
      "execution_count": null,
      "outputs": [
        {
          "output_type": "stream",
          "text": [
            "Classification report for Random Forest\n",
            "              precision    recall  f1-score   support\n",
            "\n",
            "           0       0.80      0.73      0.76        44\n",
            "           1       0.67      0.75      0.71        32\n",
            "\n",
            "    accuracy                           0.74        76\n",
            "   macro avg       0.73      0.74      0.73        76\n",
            "weighted avg       0.74      0.74      0.74        76\n",
            "\n",
            "Accuracy on Test Set for Random Forest = 0.83\n",
            "Mean Decision Tree (entropy) CrossVal Train Set Accuracy Mean: 0.76 and Standard Deviation: 0.03 \n",
            "\n"
          ],
          "name": "stdout"
        },
        {
          "output_type": "display_data",
          "data": {
            "image/png": "[encoded data removed]",
            "text/plain": [
              "<Figure size 432x288 with 2 Axes>"
            ]
          },
          "metadata": {
            "tags": []
          }
        }
      ]
    },
    {
      "cell_type": "code",
      "metadata": {
        "id": "uWlqkmAsDNRU"
      },
      "source": [
        "acc = classifier4.score(X_test,y_test)*100\n",
        "accuracies['Random Forest'] = acc"
      ],
      "execution_count": null,
      "outputs": []
    },
    {
      "cell_type": "markdown",
      "metadata": {
        "id": "QDeyOTw5p1_M"
      },
      "source": [
        "# SUPPORT VECTOR MACHINE"
      ]
    },
    {
      "cell_type": "code",
      "metadata": {
        "id": "FBMVZCFipFqa",
        "colab": {
          "base_uri": "https://localhost:8080/",
          "height": 466
        },
        "outputId": "6c3f3ba1-ce89-408c-8d75-10ba6b2b8fd7"
      },
      "source": [
        "classifier5=SVC().fit(X_train,y_train)\n",
        "y_pred5=classifier5.predict(X_test)\n",
        "plot_confusion_matrix(classifier5,X_test,y_test)\n",
        "print('Classification report')\n",
        "print(classification_report(y_test,y_pred5))\n",
        "print(\"confusion matrix is\")\n",
        "plt.show()"
      ],
      "execution_count": null,
      "outputs": [
        {
          "output_type": "stream",
          "text": [
            "Classification report\n",
            "              precision    recall  f1-score   support\n",
            "\n",
            "           0       0.58      1.00      0.73        44\n",
            "           1       0.00      0.00      0.00        32\n",
            "\n",
            "    accuracy                           0.58        76\n",
            "   macro avg       0.29      0.50      0.37        76\n",
            "weighted avg       0.34      0.58      0.42        76\n",
            "\n",
            "confusion matrix is\n"
          ],
          "name": "stdout"
        },
        {
          "output_type": "display_data",
          "data": {
            "image/png": "[encoded data removed]",
            "text/plain": [
              "<Figure size 432x288 with 2 Axes>"
            ]
          },
          "metadata": {
            "tags": []
          }
        }
      ]
    },
    {
      "cell_type": "code",
      "metadata": {
        "id": "IaPmE8bJDS6w"
      },
      "source": [
        "acc = classifier5.score(X_test,y_test)*100\n",
        "accuracies['SVM'] = acc"
      ],
      "execution_count": null,
      "outputs": []
    },
    {
      "cell_type": "code",
      "metadata": {
        "id": "qiNK3qbuDbGy",
        "colab": {
          "base_uri": "https://localhost:8080/",
          "height": 334
        },
        "outputId": "8cc3c513-68b0-41bf-d28f-420d340edc7e"
      },
      "source": [
        "colors = [\"purple\", \"green\", \"orange\", \"magenta\"]\n",
        "\n",
        "sns.set_style(\"whitegrid\")\n",
        "plt.figure(figsize=(20,5))\n",
        "plt.yticks(np.arange(0,100,10))\n",
        "plt.ylabel(\"Accuracy %\")\n",
        "plt.xlabel(\"Algorithms\")\n",
        "sns.barplot(x=list(accuracies.keys()), y=list(accuracies.values()), palette=colors)\n",
        "plt.show()"
      ],
      "execution_count": null,
      "outputs": [
        {
          "output_type": "display_data",
          "data": {
            "image/png": "[encoded data removed]",
            "text/plain": [
              "<Figure size 1440x360 with 1 Axes>"
            ]
          },
          "metadata": {
            "tags": []
          }
        }
      ]
    },
    {
      "cell_type": "markdown",
      "metadata": {
        "id": "X-qqPFTnfeIU"
      },
      "source": [
        "Hyper parameter tuning is the process of finding the best parameters for a model and to minimize the effect of underfitting and overfitting."
      ]
    },
    {
      "cell_type": "markdown",
      "metadata": {
        "id": "VTtI1WkT4TAP"
      },
      "source": [
        "**Hyper parameter tuning using Random search cv for differant models **"
      ]
    },
    {
      "cell_type": "markdown",
      "metadata": {
        "id": "sZNcfSGX4b74"
      },
      "source": [
        "**Logistic Regression**"
      ]
    },
    {
      "cell_type": "markdown",
      "metadata": {
        "id": "kGsTTQjOf489"
      },
      "source": [
        "For logistic regression we have tuned the parameters and the found the best fit, suing that we build a model,predicted the values and plotted the confusion matrix."
      ]
    },
    {
      "cell_type": "code",
      "metadata": {
        "id": "eCuztaIFmkUA"
      },
      "source": [
        "lc=RandomizedSearchCV(LogisticRegression(random_state=30),{\n",
        "    'C':[5,10,15,20],\n",
        "    'max_iter':[100,150,200,250]\n",
        "\n",
        "},cv=5,return_train_score=False,n_iter=2)"
      ],
      "execution_count": null,
      "outputs": []
    },
    {
      "cell_type": "code",
      "metadata": {
        "id": "Ucmw0UVanWA0",
        "colab": {
          "base_uri": "https://localhost:8080/",
          "height": 255
        },
        "outputId": "00f2c1cf-4513-4b44-ca85-346c8bffb017"
      },
      "source": [
        "lc.fit(X_train,y_train)"
      ],
      "execution_count": null,
      "outputs": [
        {
          "output_type": "execute_result",
          "data": {
            "text/plain": [
              "RandomizedSearchCV(cv=5, error_score=nan,\n",
              "                   estimator=LogisticRegression(C=1.0, class_weight=None,\n",
              "                                                dual=False, fit_intercept=True,\n",
              "                                                intercept_scaling=1,\n",
              "                                                l1_ratio=None, max_iter=100,\n",
              "                                                multi_class='auto', n_jobs=None,\n",
              "                                                penalty='l2', random_state=30,\n",
              "                                                solver='lbfgs', tol=0.0001,\n",
              "                                                verbose=0, warm_start=False),\n",
              "                   iid='deprecated', n_iter=2, n_jobs=None,\n",
              "                   param_distributions={'C': [5, 10, 15, 20],\n",
              "                                        'max_iter': [100, 150, 200, 250]},\n",
              "                   pre_dispatch='2*n_jobs', random_state=None, refit=True,\n",
              "                   return_train_score=False, scoring=None, verbose=0)"
            ]
          },
          "metadata": {
            "tags": []
          },
          "execution_count": 29
        }
      ]
    },
    {
      "cell_type": "code",
      "metadata": {
        "id": "5zOlC32SnYIp",
        "colab": {
          "base_uri": "https://localhost:8080/",
          "height": 34
        },
        "outputId": "662a4d70-e9b2-4dae-f98f-6a6eda74ee35"
      },
      "source": [
        "lc.best_params_"
      ],
      "execution_count": null,
      "outputs": [
        {
          "output_type": "execute_result",
          "data": {
            "text/plain": [
              "{'C': 10, 'max_iter': 250}"
            ]
          },
          "metadata": {
            "tags": []
          },
          "execution_count": 30
        }
      ]
    },
    {
      "cell_type": "code",
      "metadata": {
        "id": "hVv3hRYuxKrD",
        "colab": {
          "base_uri": "https://localhost:8080/",
          "height": 34
        },
        "outputId": "98706b63-8653-4716-a237-3efab998e398"
      },
      "source": [
        " lc.best_score_\n"
      ],
      "execution_count": null,
      "outputs": [
        {
          "output_type": "execute_result",
          "data": {
            "text/plain": [
              "0.8192270531400965"
            ]
          },
          "metadata": {
            "tags": []
          },
          "execution_count": 31
        }
      ]
    },
    {
      "cell_type": "code",
      "metadata": {
        "id": "hwxjRDgLzT_T",
        "colab": {
          "base_uri": "https://localhost:8080/",
          "height": 466
        },
        "outputId": "98f7499f-d641-4ae0-a979-531b8da83550"
      },
      "source": [
        "lc_hy=LogisticRegression(random_state=30,C=15,max_iter=200).fit(X_train,y_train)\n",
        "hy_pred1=lc_hy.predict(X_test)\n",
        "print(\"Classification report is given as \")\n",
        "print(classification_report(y_test,hy_pred1))\n",
        "print(\"Condusion matrix is\")\n",
        "plot_confusion_matrix(lc_hy,X_test,y_test,cmap='OrRd')\n",
        "plt.show()"
      ],
      "execution_count": null,
      "outputs": [
        {
          "output_type": "stream",
          "text": [
            "Classification report is given as \n",
            "              precision    recall  f1-score   support\n",
            "\n",
            "           0       0.80      0.82      0.81        44\n",
            "           1       0.74      0.72      0.73        32\n",
            "\n",
            "    accuracy                           0.78        76\n",
            "   macro avg       0.77      0.77      0.77        76\n",
            "weighted avg       0.78      0.78      0.78        76\n",
            "\n",
            "Condusion matrix is\n"
          ],
          "name": "stdout"
        },
        {
          "output_type": "display_data",
          "data": {
            "image/png": "[encoded data removed]",
            "text/plain": [
              "<Figure size 432x288 with 2 Axes>"
            ]
          },
          "metadata": {
            "tags": []
          }
        }
      ]
    },
    {
      "cell_type": "code",
      "metadata": {
        "id": "GRDL165aELXz"
      },
      "source": [
        "acc2 = lc_hy.score(X_test,y_test)*100\n",
        "accuracies['Logistic Regression'] = acc2"
      ],
      "execution_count": null,
      "outputs": []
    },
    {
      "cell_type": "markdown",
      "metadata": {
        "id": "d53DPRXm4gT5"
      },
      "source": [
        "**DecisionTree Classifier**"
      ]
    },
    {
      "cell_type": "markdown",
      "metadata": {
        "id": "LqJNVH12gMK6"
      },
      "source": [
        "Decision Tree Classifier is the most affected model by overfitting, for decisiontree we tuned various paramaters like max_depth,crtierion,min_samples_split etc.,"
      ]
    },
    {
      "cell_type": "code",
      "metadata": {
        "id": "0tRkAT93kOMW"
      },
      "source": [
        "dt=RandomizedSearchCV(DecisionTreeClassifier(),{\n",
        "    'criterion':['gini','entropy'],\n",
        "    'splitter':['best','random'],\n",
        "    'max_depth':[2,4,6,8,10],\n",
        "    'min_samples_split':[1,2,3]\n",
        "},cv=5,return_train_score=False,n_iter=2)"
      ],
      "execution_count": null,
      "outputs": []
    },
    {
      "cell_type": "code",
      "metadata": {
        "id": "L_bgRV49mXDY",
        "colab": {
          "base_uri": "https://localhost:8080/",
          "height": 391
        },
        "outputId": "f3dc2427-bc17-42dc-bfcc-8281249ea512"
      },
      "source": [
        "dt.fit(X_train,y_train)"
      ],
      "execution_count": null,
      "outputs": [
        {
          "output_type": "execute_result",
          "data": {
            "text/plain": [
              "RandomizedSearchCV(cv=5, error_score=nan,\n",
              "                   estimator=DecisionTreeClassifier(ccp_alpha=0.0,\n",
              "                                                    class_weight=None,\n",
              "                                                    criterion='gini',\n",
              "                                                    max_depth=None,\n",
              "                                                    max_features=None,\n",
              "                                                    max_leaf_nodes=None,\n",
              "                                                    min_impurity_decrease=0.0,\n",
              "                                                    min_impurity_split=None,\n",
              "                                                    min_samples_leaf=1,\n",
              "                                                    min_samples_split=2,\n",
              "                                                    min_weight_fraction_leaf=0.0,\n",
              "                                                    presort='deprecated',\n",
              "                                                    random_state=None,\n",
              "                                                    splitter='best'),\n",
              "                   iid='deprecated', n_iter=2, n_jobs=None,\n",
              "                   param_distributions={'criterion': ['gini', 'entropy'],\n",
              "                                        'max_depth': [2, 4, 6, 8, 10],\n",
              "                                        'min_samples_split': [1, 2, 3],\n",
              "                                        'splitter': ['best', 'random']},\n",
              "                   pre_dispatch='2*n_jobs', random_state=None, refit=True,\n",
              "                   return_train_score=False, scoring=None, verbose=0)"
            ]
          },
          "metadata": {
            "tags": []
          },
          "execution_count": 35
        }
      ]
    },
    {
      "cell_type": "code",
      "metadata": {
        "id": "rQdWnTvUmiwI",
        "colab": {
          "base_uri": "https://localhost:8080/",
          "height": 85
        },
        "outputId": "c6f66992-66d6-44c0-fb81-831663853f07"
      },
      "source": [
        "dt.best_params_"
      ],
      "execution_count": null,
      "outputs": [
        {
          "output_type": "execute_result",
          "data": {
            "text/plain": [
              "{'criterion': 'entropy',\n",
              " 'max_depth': 8,\n",
              " 'min_samples_split': 2,\n",
              " 'splitter': 'best'}"
            ]
          },
          "metadata": {
            "tags": []
          },
          "execution_count": 36
        }
      ]
    },
    {
      "cell_type": "code",
      "metadata": {
        "id": "gFbQMjaXxaJI",
        "colab": {
          "base_uri": "https://localhost:8080/",
          "height": 34
        },
        "outputId": "b821734f-22b0-4a5f-83cb-51789b6f9450"
      },
      "source": [
        "dt.best_score_"
      ],
      "execution_count": null,
      "outputs": [
        {
          "output_type": "execute_result",
          "data": {
            "text/plain": [
              "0.7263768115942029"
            ]
          },
          "metadata": {
            "tags": []
          },
          "execution_count": 37
        }
      ]
    },
    {
      "cell_type": "code",
      "metadata": {
        "id": "36e51M770JVZ",
        "colab": {
          "base_uri": "https://localhost:8080/",
          "height": 470
        },
        "outputId": "0635950b-afe8-4b2f-dc93-cae37677d080"
      },
      "source": [
        "dt_hy=DecisionTreeClassifier(criterion='gini',splitter='best',max_depth=6,min_samples_split=2).fit(X_train,y_train)\n",
        "hy_pred2=dt_hy.predict(X_test)\n",
        "print(\"Classification report is given as \")\n",
        "print(classification_report(y_test,hy_pred2))\n",
        "print('confusion matrix is')\n",
        "plot_confusion_matrix(dt_hy,X_test,y_test,cmap='OrRd')\n",
        "plt.show()"
      ],
      "execution_count": null,
      "outputs": [
        {
          "output_type": "stream",
          "text": [
            "Classification report is given as \n",
            "              precision    recall  f1-score   support\n",
            "\n",
            "           0       0.81      0.68      0.74        44\n",
            "           1       0.64      0.78      0.70        32\n",
            "\n",
            "    accuracy                           0.72        76\n",
            "   macro avg       0.73      0.73      0.72        76\n",
            "weighted avg       0.74      0.72      0.73        76\n",
            "\n",
            "confusion matrix is\n"
          ],
          "name": "stdout"
        },
        {
          "output_type": "display_data",
          "data": {
            "image/png": "[encoded data removed]",
            "text/plain": [
              "<Figure size 432x288 with 2 Axes>"
            ]
          },
          "metadata": {
            "tags": []
          }
        }
      ]
    },
    {
      "cell_type": "code",
      "metadata": {
        "id": "PgrN4HB5FAF_"
      },
      "source": [
        "acc2 = dt_hy.score(X_test,y_test)*100\n",
        "accuracies['Decision Tree'] = acc2"
      ],
      "execution_count": null,
      "outputs": []
    },
    {
      "cell_type": "markdown",
      "metadata": {
        "id": "O0PW9Wn04kwz"
      },
      "source": [
        "**RandomForestClassifier**"
      ]
    },
    {
      "cell_type": "markdown",
      "metadata": {
        "id": "DajVKugsg3eo"
      },
      "source": [
        "For RandomForestClassifier the best performing model is with n_estimators=40,min_samples_split=2 and max_depth=10."
      ]
    },
    {
      "cell_type": "code",
      "metadata": {
        "id": "nRWbO85uh3WG"
      },
      "source": [
        "rf=RandomizedSearchCV(RandomForestClassifier(),{\n",
        "\n",
        "    'n_estimators':[20,40,60],\n",
        "    'max_depth':[6,8,10],\n",
        "    'min_samples_split':[1,2,3]\n",
        "},cv=5,return_train_score=False,n_iter=2)"
      ],
      "execution_count": null,
      "outputs": []
    },
    {
      "cell_type": "code",
      "metadata": {
        "id": "vOrds5AUj5hB",
        "colab": {
          "base_uri": "https://localhost:8080/",
          "height": 459
        },
        "outputId": "9907943b-a6e2-4d5e-d0c0-cbe5dd6278b1"
      },
      "source": [
        "rf.fit(X_train,y_train)"
      ],
      "execution_count": null,
      "outputs": [
        {
          "output_type": "execute_result",
          "data": {
            "text/plain": [
              "RandomizedSearchCV(cv=5, error_score=nan,\n",
              "                   estimator=RandomForestClassifier(bootstrap=True,\n",
              "                                                    ccp_alpha=0.0,\n",
              "                                                    class_weight=None,\n",
              "                                                    criterion='gini',\n",
              "                                                    max_depth=None,\n",
              "                                                    max_features='auto',\n",
              "                                                    max_leaf_nodes=None,\n",
              "                                                    max_samples=None,\n",
              "                                                    min_impurity_decrease=0.0,\n",
              "                                                    min_impurity_split=None,\n",
              "                                                    min_samples_leaf=1,\n",
              "                                                    min_samples_split=2,\n",
              "                                                    min_weight_fraction_leaf=0.0,\n",
              "                                                    n_estimators=100,\n",
              "                                                    n_jobs=None,\n",
              "                                                    oob_score=False,\n",
              "                                                    random_state=None,\n",
              "                                                    verbose=0,\n",
              "                                                    warm_start=False),\n",
              "                   iid='deprecated', n_iter=2, n_jobs=None,\n",
              "                   param_distributions={'max_depth': [6, 8, 10],\n",
              "                                        'min_samples_split': [1, 2, 3],\n",
              "                                        'n_estimators': [20, 40, 60]},\n",
              "                   pre_dispatch='2*n_jobs', random_state=None, refit=True,\n",
              "                   return_train_score=False, scoring=None, verbose=0)"
            ]
          },
          "metadata": {
            "tags": []
          },
          "execution_count": 41
        }
      ]
    },
    {
      "cell_type": "code",
      "metadata": {
        "id": "T4G32jp3kMvT",
        "colab": {
          "base_uri": "https://localhost:8080/",
          "height": 34
        },
        "outputId": "3035810b-2355-4705-c2e4-49d30bb8ec1b"
      },
      "source": [
        "rf.best_params_"
      ],
      "execution_count": null,
      "outputs": [
        {
          "output_type": "execute_result",
          "data": {
            "text/plain": [
              "{'max_depth': 10, 'min_samples_split': 2, 'n_estimators': 40}"
            ]
          },
          "metadata": {
            "tags": []
          },
          "execution_count": 42
        }
      ]
    },
    {
      "cell_type": "code",
      "metadata": {
        "id": "nTP3hSVlxysN",
        "colab": {
          "base_uri": "https://localhost:8080/",
          "height": 34
        },
        "outputId": "bc91d7f0-0d00-4848-c4f4-93ae073a37b5"
      },
      "source": [
        "rf.best_score_"
      ],
      "execution_count": null,
      "outputs": [
        {
          "output_type": "execute_result",
          "data": {
            "text/plain": [
              "0.797487922705314"
            ]
          },
          "metadata": {
            "tags": []
          },
          "execution_count": 43
        }
      ]
    },
    {
      "cell_type": "code",
      "metadata": {
        "id": "P5c1QQTW1cKN",
        "colab": {
          "base_uri": "https://localhost:8080/",
          "height": 466
        },
        "outputId": "04b7a8fb-93bf-4220-cd78-0ef78c664afd"
      },
      "source": [
        "rf_hy=RandomForestClassifier(n_estimators=60,max_depth=6,min_samples_split=3).fit(X_train,y_train)\n",
        "hy_pred3=rf_hy.predict(X_test)\n",
        "print('Classification report is ')\n",
        "print(classification_report(y_test,hy_pred3))\n",
        "print(\"confusion matrix is \")\n",
        "plot_confusion_matrix(rf_hy,X_test,y_test)\n",
        "plt.show()"
      ],
      "execution_count": null,
      "outputs": [
        {
          "output_type": "stream",
          "text": [
            "Classification report is \n",
            "              precision    recall  f1-score   support\n",
            "\n",
            "           0       0.87      0.89      0.88        44\n",
            "           1       0.84      0.81      0.83        32\n",
            "\n",
            "    accuracy                           0.86        76\n",
            "   macro avg       0.85      0.85      0.85        76\n",
            "weighted avg       0.85      0.86      0.85        76\n",
            "\n",
            "confusion matrix is \n"
          ],
          "name": "stdout"
        },
        {
          "output_type": "display_data",
          "data": {
            "image/png": "[encoded data removed]",
            "text/plain": [
              "<Figure size 432x288 with 2 Axes>"
            ]
          },
          "metadata": {
            "tags": []
          }
        }
      ]
    },
    {
      "cell_type": "code",
      "metadata": {
        "id": "mnwBL_6tFGfk"
      },
      "source": [
        "acc2 = rf_hy.score(X_test,y_test)*100\n",
        "accuracies['Random Forest'] = acc2"
      ],
      "execution_count": null,
      "outputs": []
    },
    {
      "cell_type": "markdown",
      "metadata": {
        "id": "QA_IihrM4rLj"
      },
      "source": [
        "**Support Vector Machine**"
      ]
    },
    {
      "cell_type": "code",
      "metadata": {
        "id": "vGzM0uX3gFJz"
      },
      "source": [
        "rlf=RandomizedSearchCV(SVC(gamma='auto'),{\n",
        "    'C':[1,10,20],\n",
        "    'kernel':['rbf','linear']\n",
        "},cv=5,return_train_score=False,n_iter=2)"
      ],
      "execution_count": null,
      "outputs": []
    },
    {
      "cell_type": "code",
      "metadata": {
        "id": "WjLR-fPNhd90",
        "colab": {
          "base_uri": "https://localhost:8080/",
          "height": 221
        },
        "outputId": "22ba939a-9d4c-4c74-d9c3-0fcb540cb723"
      },
      "source": [
        "rlf.fit(X_train,y_train)"
      ],
      "execution_count": null,
      "outputs": [
        {
          "output_type": "execute_result",
          "data": {
            "text/plain": [
              "RandomizedSearchCV(cv=5, error_score=nan,\n",
              "                   estimator=SVC(C=1.0, break_ties=False, cache_size=200,\n",
              "                                 class_weight=None, coef0=0.0,\n",
              "                                 decision_function_shape='ovr', degree=3,\n",
              "                                 gamma='auto', kernel='rbf', max_iter=-1,\n",
              "                                 probability=False, random_state=None,\n",
              "                                 shrinking=True, tol=0.001, verbose=False),\n",
              "                   iid='deprecated', n_iter=2, n_jobs=None,\n",
              "                   param_distributions={'C': [1, 10, 20],\n",
              "                                        'kernel': ['rbf', 'linear']},\n",
              "                   pre_dispatch='2*n_jobs', random_state=None, refit=True,\n",
              "                   return_train_score=False, scoring=None, verbose=0)"
            ]
          },
          "metadata": {
            "tags": []
          },
          "execution_count": 47
        }
      ]
    },
    {
      "cell_type": "code",
      "metadata": {
        "id": "XfRO702Nhu1h",
        "colab": {
          "base_uri": "https://localhost:8080/",
          "height": 34
        },
        "outputId": "e74ba7e3-3f0d-4e2b-d0e7-bca1ed7860e9"
      },
      "source": [
        "rlf.best_score_"
      ],
      "execution_count": null,
      "outputs": [
        {
          "output_type": "execute_result",
          "data": {
            "text/plain": [
              "0.8371014492753623"
            ]
          },
          "metadata": {
            "tags": []
          },
          "execution_count": 48
        }
      ]
    },
    {
      "cell_type": "code",
      "metadata": {
        "id": "4j1l8qLqh03V",
        "colab": {
          "base_uri": "https://localhost:8080/",
          "height": 34
        },
        "outputId": "f14b6499-1051-4d73-ba94-bbec27e78f64"
      },
      "source": [
        "rlf.best_params_"
      ],
      "execution_count": null,
      "outputs": [
        {
          "output_type": "execute_result",
          "data": {
            "text/plain": [
              "{'C': 1, 'kernel': 'linear'}"
            ]
          },
          "metadata": {
            "tags": []
          },
          "execution_count": 49
        }
      ]
    },
    {
      "cell_type": "code",
      "metadata": {
        "id": "UDV9_7WZnaYz",
        "colab": {
          "base_uri": "https://localhost:8080/",
          "height": 470
        },
        "outputId": "17dfcacb-aae4-4086-ff32-27f8dc597ed4"
      },
      "source": [
        "svm_hy=SVC(gamma='auto',C=20,kernel='linear').fit(X_train,y_train)\n",
        "hy_pred4=svm_hy.predict(X_test)\n",
        "print(\"classification report is\")\n",
        "print(classification_report(y_test,hy_pred4))\n",
        "print(\"confusion matrix is \")\n",
        "plot_confusion_matrix(svm_hy,X_test,y_test,cmap='OrRd')\n",
        "plt.show()"
      ],
      "execution_count": null,
      "outputs": [
        {
          "output_type": "stream",
          "text": [
            "classification report is\n",
            "              precision    recall  f1-score   support\n",
            "\n",
            "           0       0.78      0.80      0.79        44\n",
            "           1       0.71      0.69      0.70        32\n",
            "\n",
            "    accuracy                           0.75        76\n",
            "   macro avg       0.74      0.74      0.74        76\n",
            "weighted avg       0.75      0.75      0.75        76\n",
            "\n",
            "confusion matrix is \n"
          ],
          "name": "stdout"
        },
        {
          "output_type": "display_data",
          "data": {
            "image/png": "[encoded data removed]",
            "text/plain": [
              "<Figure size 432x288 with 2 Axes>"
            ]
          },
          "metadata": {
            "tags": []
          }
        }
      ]
    },
    {
      "cell_type": "code",
      "metadata": {
        "id": "_9nZfeOlDpdj"
      },
      "source": [
        "acc2 = svm_hy.score(X_test,y_test)*100\n",
        "accuracies['SVM'] = acc2"
      ],
      "execution_count": null,
      "outputs": []
    },
    {
      "cell_type": "markdown",
      "metadata": {
        "id": "pojbMTVPoErr"
      },
      "source": [
        "We plotted the performance acuuracy of various models and we can say from the graph that the RandomForestClassifier is the best model among them."
      ]
    },
    {
      "cell_type": "code",
      "metadata": {
        "id": "mBQNXrZSDoP4",
        "colab": {
          "base_uri": "https://localhost:8080/",
          "height": 334
        },
        "outputId": "91343f17-2dad-4ee4-9c79-0bbcac18cfff"
      },
      "source": [
        "colors = [\"purple\", \"green\", \"orange\", \"magenta\"]\n",
        "\n",
        "sns.set_style(\"whitegrid\")\n",
        "plt.figure(figsize=(20,5))\n",
        "plt.yticks(np.arange(0,100,10))\n",
        "plt.ylabel(\"Accuracy %\")\n",
        "plt.xlabel(\"Algorithms\")\n",
        "sns.barplot(x=list(accuracies.keys()), y=list(accuracies.values()), palette=colors)\n",
        "plt.show()"
      ],
      "execution_count": null,
      "outputs": [
        {
          "output_type": "display_data",
          "data": {
            "image/png": "[encoded data removed]",
            "text/plain": [
              "<Figure size 1440x360 with 1 Axes>"
            ]
          },
          "metadata": {
            "tags": []
          }
        }
      ]
    }
  ]
}